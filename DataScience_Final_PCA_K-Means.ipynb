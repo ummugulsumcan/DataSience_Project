{
 "cells": [
  {
   "cell_type": "markdown",
   "metadata": {},
   "source": [
    "# 1- Veri Seti Tanımı"
   ]
  },
  {
   "cell_type": "code",
   "execution_count": 271,
   "metadata": {},
   "outputs": [
    {
     "data": {
      "text/html": [
       "<div>\n",
       "<style scoped>\n",
       "    .dataframe tbody tr th:only-of-type {\n",
       "        vertical-align: middle;\n",
       "    }\n",
       "\n",
       "    .dataframe tbody tr th {\n",
       "        vertical-align: top;\n",
       "    }\n",
       "\n",
       "    .dataframe thead th {\n",
       "        text-align: right;\n",
       "    }\n",
       "</style>\n",
       "<table border=\"1\" class=\"dataframe\">\n",
       "  <thead>\n",
       "    <tr style=\"text-align: right;\">\n",
       "      <th></th>\n",
       "      <th>1</th>\n",
       "      <th>2</th>\n",
       "      <th>3</th>\n",
       "      <th>4</th>\n",
       "      <th>5</th>\n",
       "      <th>6</th>\n",
       "      <th>7</th>\n",
       "      <th>8</th>\n",
       "      <th>9</th>\n",
       "      <th>10</th>\n",
       "      <th>...</th>\n",
       "      <th>30</th>\n",
       "      <th>31</th>\n",
       "      <th>32</th>\n",
       "      <th>33</th>\n",
       "      <th>34</th>\n",
       "      <th>35</th>\n",
       "      <th>36</th>\n",
       "      <th>37</th>\n",
       "      <th>38</th>\n",
       "      <th>39</th>\n",
       "    </tr>\n",
       "  </thead>\n",
       "  <tbody>\n",
       "    <tr>\n",
       "      <th>0</th>\n",
       "      <td>D-1/3/90</td>\n",
       "      <td>44101</td>\n",
       "      <td>1.50</td>\n",
       "      <td>7.8</td>\n",
       "      <td>?</td>\n",
       "      <td>407</td>\n",
       "      <td>166</td>\n",
       "      <td>66.3</td>\n",
       "      <td>4.5</td>\n",
       "      <td>2110</td>\n",
       "      <td>...</td>\n",
       "      <td>2000</td>\n",
       "      <td>?</td>\n",
       "      <td>58.8</td>\n",
       "      <td>95.5</td>\n",
       "      <td>?</td>\n",
       "      <td>70.0</td>\n",
       "      <td>?</td>\n",
       "      <td>79.4</td>\n",
       "      <td>87.3</td>\n",
       "      <td>99.6</td>\n",
       "    </tr>\n",
       "    <tr>\n",
       "      <th>1</th>\n",
       "      <td>D-2/3/90</td>\n",
       "      <td>39024</td>\n",
       "      <td>3.00</td>\n",
       "      <td>7.7</td>\n",
       "      <td>?</td>\n",
       "      <td>443</td>\n",
       "      <td>214</td>\n",
       "      <td>69.2</td>\n",
       "      <td>6.5</td>\n",
       "      <td>2660</td>\n",
       "      <td>...</td>\n",
       "      <td>2590</td>\n",
       "      <td>?</td>\n",
       "      <td>60.7</td>\n",
       "      <td>94.8</td>\n",
       "      <td>?</td>\n",
       "      <td>80.8</td>\n",
       "      <td>?</td>\n",
       "      <td>79.5</td>\n",
       "      <td>92.1</td>\n",
       "      <td>100</td>\n",
       "    </tr>\n",
       "    <tr>\n",
       "      <th>2</th>\n",
       "      <td>D-4/3/90</td>\n",
       "      <td>32229</td>\n",
       "      <td>5.00</td>\n",
       "      <td>7.6</td>\n",
       "      <td>?</td>\n",
       "      <td>528</td>\n",
       "      <td>186</td>\n",
       "      <td>69.9</td>\n",
       "      <td>3.4</td>\n",
       "      <td>1666</td>\n",
       "      <td>...</td>\n",
       "      <td>1888</td>\n",
       "      <td>?</td>\n",
       "      <td>58.2</td>\n",
       "      <td>95.6</td>\n",
       "      <td>?</td>\n",
       "      <td>52.9</td>\n",
       "      <td>?</td>\n",
       "      <td>75.8</td>\n",
       "      <td>88.7</td>\n",
       "      <td>98.5</td>\n",
       "    </tr>\n",
       "    <tr>\n",
       "      <th>3</th>\n",
       "      <td>D-5/3/90</td>\n",
       "      <td>35023</td>\n",
       "      <td>3.50</td>\n",
       "      <td>7.9</td>\n",
       "      <td>205</td>\n",
       "      <td>588</td>\n",
       "      <td>192</td>\n",
       "      <td>65.6</td>\n",
       "      <td>4.5</td>\n",
       "      <td>2430</td>\n",
       "      <td>...</td>\n",
       "      <td>1840</td>\n",
       "      <td>33.1</td>\n",
       "      <td>64.2</td>\n",
       "      <td>95.3</td>\n",
       "      <td>87.3</td>\n",
       "      <td>72.3</td>\n",
       "      <td>90.2</td>\n",
       "      <td>82.3</td>\n",
       "      <td>89.6</td>\n",
       "      <td>100</td>\n",
       "    </tr>\n",
       "    <tr>\n",
       "      <th>4</th>\n",
       "      <td>D-6/3/90</td>\n",
       "      <td>36924</td>\n",
       "      <td>1.50</td>\n",
       "      <td>8.0</td>\n",
       "      <td>242</td>\n",
       "      <td>496</td>\n",
       "      <td>176</td>\n",
       "      <td>64.8</td>\n",
       "      <td>4.0</td>\n",
       "      <td>2110</td>\n",
       "      <td>...</td>\n",
       "      <td>2120</td>\n",
       "      <td>?</td>\n",
       "      <td>62.7</td>\n",
       "      <td>95.6</td>\n",
       "      <td>?</td>\n",
       "      <td>71.0</td>\n",
       "      <td>92.1</td>\n",
       "      <td>78.2</td>\n",
       "      <td>87.5</td>\n",
       "      <td>99.5</td>\n",
       "    </tr>\n",
       "  </tbody>\n",
       "</table>\n",
       "<p>5 rows × 39 columns</p>\n",
       "</div>"
      ],
      "text/plain": [
       "          1      2     3    4    5    6    7     8    9    10  ...     30  \\\n",
       "0  D-1/3/90  44101  1.50  7.8    ?  407  166  66.3  4.5  2110  ...   2000   \n",
       "1  D-2/3/90  39024  3.00  7.7    ?  443  214  69.2  6.5  2660  ...   2590   \n",
       "2  D-4/3/90  32229  5.00  7.6    ?  528  186  69.9  3.4  1666  ...   1888   \n",
       "3  D-5/3/90  35023  3.50  7.9  205  588  192  65.6  4.5  2430  ...   1840   \n",
       "4  D-6/3/90  36924  1.50  8.0  242  496  176  64.8  4.0  2110  ...   2120   \n",
       "\n",
       "     31    32    33    34    35    36    37    38    39  \n",
       "0     ?  58.8  95.5     ?  70.0     ?  79.4  87.3  99.6  \n",
       "1     ?  60.7  94.8     ?  80.8     ?  79.5  92.1   100  \n",
       "2     ?  58.2  95.6     ?  52.9     ?  75.8  88.7  98.5  \n",
       "3  33.1  64.2  95.3  87.3  72.3  90.2  82.3  89.6   100  \n",
       "4     ?  62.7  95.6     ?  71.0  92.1  78.2  87.5  99.5  \n",
       "\n",
       "[5 rows x 39 columns]"
      ]
     },
     "execution_count": 271,
     "metadata": {},
     "output_type": "execute_result"
    }
   ],
   "source": [
    "from sklearn.cluster import KMeans\n",
    "import pandas as pd\n",
    "import numpy as np\n",
    "data = pd.read_csv('water-treatment.data')\n",
    "import warnings\n",
    "warnings.filterwarnings('ignore')\n",
    "data.head()"
   ]
  },
  {
   "cell_type": "code",
   "execution_count": 272,
   "metadata": {},
   "outputs": [
    {
     "data": {
      "text/html": [
       "<div>\n",
       "<style scoped>\n",
       "    .dataframe tbody tr th:only-of-type {\n",
       "        vertical-align: middle;\n",
       "    }\n",
       "\n",
       "    .dataframe tbody tr th {\n",
       "        vertical-align: top;\n",
       "    }\n",
       "\n",
       "    .dataframe thead th {\n",
       "        text-align: right;\n",
       "    }\n",
       "</style>\n",
       "<table border=\"1\" class=\"dataframe\">\n",
       "  <thead>\n",
       "    <tr style=\"text-align: right;\">\n",
       "      <th></th>\n",
       "      <th>2</th>\n",
       "      <th>3</th>\n",
       "      <th>4</th>\n",
       "      <th>5</th>\n",
       "      <th>6</th>\n",
       "      <th>7</th>\n",
       "      <th>8</th>\n",
       "      <th>9</th>\n",
       "      <th>10</th>\n",
       "      <th>11</th>\n",
       "      <th>...</th>\n",
       "      <th>30</th>\n",
       "      <th>31</th>\n",
       "      <th>32</th>\n",
       "      <th>33</th>\n",
       "      <th>34</th>\n",
       "      <th>35</th>\n",
       "      <th>36</th>\n",
       "      <th>37</th>\n",
       "      <th>38</th>\n",
       "      <th>39</th>\n",
       "    </tr>\n",
       "  </thead>\n",
       "  <tbody>\n",
       "    <tr>\n",
       "      <th>0</th>\n",
       "      <td>44101</td>\n",
       "      <td>1.50</td>\n",
       "      <td>7.8</td>\n",
       "      <td>?</td>\n",
       "      <td>407</td>\n",
       "      <td>166</td>\n",
       "      <td>66.3</td>\n",
       "      <td>4.5</td>\n",
       "      <td>2110</td>\n",
       "      <td>7.9</td>\n",
       "      <td>...</td>\n",
       "      <td>2000</td>\n",
       "      <td>?</td>\n",
       "      <td>58.8</td>\n",
       "      <td>95.5</td>\n",
       "      <td>?</td>\n",
       "      <td>70.0</td>\n",
       "      <td>?</td>\n",
       "      <td>79.4</td>\n",
       "      <td>87.3</td>\n",
       "      <td>99.6</td>\n",
       "    </tr>\n",
       "    <tr>\n",
       "      <th>1</th>\n",
       "      <td>39024</td>\n",
       "      <td>3.00</td>\n",
       "      <td>7.7</td>\n",
       "      <td>?</td>\n",
       "      <td>443</td>\n",
       "      <td>214</td>\n",
       "      <td>69.2</td>\n",
       "      <td>6.5</td>\n",
       "      <td>2660</td>\n",
       "      <td>7.7</td>\n",
       "      <td>...</td>\n",
       "      <td>2590</td>\n",
       "      <td>?</td>\n",
       "      <td>60.7</td>\n",
       "      <td>94.8</td>\n",
       "      <td>?</td>\n",
       "      <td>80.8</td>\n",
       "      <td>?</td>\n",
       "      <td>79.5</td>\n",
       "      <td>92.1</td>\n",
       "      <td>100</td>\n",
       "    </tr>\n",
       "    <tr>\n",
       "      <th>2</th>\n",
       "      <td>32229</td>\n",
       "      <td>5.00</td>\n",
       "      <td>7.6</td>\n",
       "      <td>?</td>\n",
       "      <td>528</td>\n",
       "      <td>186</td>\n",
       "      <td>69.9</td>\n",
       "      <td>3.4</td>\n",
       "      <td>1666</td>\n",
       "      <td>7.7</td>\n",
       "      <td>...</td>\n",
       "      <td>1888</td>\n",
       "      <td>?</td>\n",
       "      <td>58.2</td>\n",
       "      <td>95.6</td>\n",
       "      <td>?</td>\n",
       "      <td>52.9</td>\n",
       "      <td>?</td>\n",
       "      <td>75.8</td>\n",
       "      <td>88.7</td>\n",
       "      <td>98.5</td>\n",
       "    </tr>\n",
       "    <tr>\n",
       "      <th>3</th>\n",
       "      <td>35023</td>\n",
       "      <td>3.50</td>\n",
       "      <td>7.9</td>\n",
       "      <td>205</td>\n",
       "      <td>588</td>\n",
       "      <td>192</td>\n",
       "      <td>65.6</td>\n",
       "      <td>4.5</td>\n",
       "      <td>2430</td>\n",
       "      <td>7.8</td>\n",
       "      <td>...</td>\n",
       "      <td>1840</td>\n",
       "      <td>33.1</td>\n",
       "      <td>64.2</td>\n",
       "      <td>95.3</td>\n",
       "      <td>87.3</td>\n",
       "      <td>72.3</td>\n",
       "      <td>90.2</td>\n",
       "      <td>82.3</td>\n",
       "      <td>89.6</td>\n",
       "      <td>100</td>\n",
       "    </tr>\n",
       "    <tr>\n",
       "      <th>4</th>\n",
       "      <td>36924</td>\n",
       "      <td>1.50</td>\n",
       "      <td>8.0</td>\n",
       "      <td>242</td>\n",
       "      <td>496</td>\n",
       "      <td>176</td>\n",
       "      <td>64.8</td>\n",
       "      <td>4.0</td>\n",
       "      <td>2110</td>\n",
       "      <td>7.9</td>\n",
       "      <td>...</td>\n",
       "      <td>2120</td>\n",
       "      <td>?</td>\n",
       "      <td>62.7</td>\n",
       "      <td>95.6</td>\n",
       "      <td>?</td>\n",
       "      <td>71.0</td>\n",
       "      <td>92.1</td>\n",
       "      <td>78.2</td>\n",
       "      <td>87.5</td>\n",
       "      <td>99.5</td>\n",
       "    </tr>\n",
       "  </tbody>\n",
       "</table>\n",
       "<p>5 rows × 38 columns</p>\n",
       "</div>"
      ],
      "text/plain": [
       "       2     3    4    5    6    7     8    9    10   11  ...     30    31  \\\n",
       "0  44101  1.50  7.8    ?  407  166  66.3  4.5  2110  7.9  ...   2000     ?   \n",
       "1  39024  3.00  7.7    ?  443  214  69.2  6.5  2660  7.7  ...   2590     ?   \n",
       "2  32229  5.00  7.6    ?  528  186  69.9  3.4  1666  7.7  ...   1888     ?   \n",
       "3  35023  3.50  7.9  205  588  192  65.6  4.5  2430  7.8  ...   1840  33.1   \n",
       "4  36924  1.50  8.0  242  496  176  64.8  4.0  2110  7.9  ...   2120     ?   \n",
       "\n",
       "     32    33    34    35    36    37    38    39  \n",
       "0  58.8  95.5     ?  70.0     ?  79.4  87.3  99.6  \n",
       "1  60.7  94.8     ?  80.8     ?  79.5  92.1   100  \n",
       "2  58.2  95.6     ?  52.9     ?  75.8  88.7  98.5  \n",
       "3  64.2  95.3  87.3  72.3  90.2  82.3  89.6   100  \n",
       "4  62.7  95.6     ?  71.0  92.1  78.2  87.5  99.5  \n",
       "\n",
       "[5 rows x 38 columns]"
      ]
     },
     "execution_count": 272,
     "metadata": {},
     "output_type": "execute_result"
    }
   ],
   "source": [
    "data = data.drop(['1'], axis=1)\n",
    "data.head()"
   ]
  },
  {
   "cell_type": "code",
   "execution_count": 273,
   "metadata": {
    "scrolled": true
   },
   "outputs": [
    {
     "name": "stdout",
     "output_type": "stream",
     "text": [
      "Örnek Sayısı: 527\n",
      "Öznitelik Sayısı: 38\n"
     ]
    },
    {
     "data": {
      "text/plain": [
       "(527, 38)"
      ]
     },
     "execution_count": 273,
     "metadata": {},
     "output_type": "execute_result"
    }
   ],
   "source": [
    "print(\"Örnek Sayısı:\",len(data))\n",
    "print(\"Öznitelik Sayısı:\",len(data.columns))\n",
    "data.shape"
   ]
  },
  {
   "cell_type": "code",
   "execution_count": 274,
   "metadata": {},
   "outputs": [
    {
     "name": "stdout",
     "output_type": "stream",
     "text": [
      "Öznitelik türleri:\n",
      " 2      object\n",
      "3      object\n",
      "4     float64\n",
      "5      object\n",
      "6      object\n",
      "7      object\n",
      "8      object\n",
      "9      object\n",
      "10      int64\n",
      "11    float64\n",
      "12     object\n",
      "13      int64\n",
      "14     object\n",
      "15     object\n",
      "16      int64\n",
      "17    float64\n",
      "18     object\n",
      "19     object\n",
      "20     object\n",
      "21     object\n",
      "22     object\n",
      "23      int64\n",
      "24     object\n",
      "25     object\n",
      "26     object\n",
      "27     object\n",
      "28     object\n",
      "29     object\n",
      "30     object\n",
      "31     object\n",
      "32     object\n",
      "33     object\n",
      "34     object\n",
      "35     object\n",
      "36     object\n",
      "37     object\n",
      "38     object\n",
      "39     object\n",
      "dtype: object\n"
     ]
    }
   ],
   "source": [
    "print('Öznitelik türleri:\\n', data.dtypes)"
   ]
  },
  {
   "cell_type": "markdown",
   "metadata": {},
   "source": [
    "# 2- Verinin ön işlenmesi"
   ]
  },
  {
   "cell_type": "code",
   "execution_count": 275,
   "metadata": {},
   "outputs": [],
   "source": [
    "def isnumberFloat(x):\n",
    "    try:\n",
    "        float(x) \n",
    "        return x\n",
    "    except:\n",
    "        return np.nan"
   ]
  },
  {
   "cell_type": "code",
   "execution_count": 276,
   "metadata": {},
   "outputs": [
    {
     "data": {
      "text/html": [
       "<div>\n",
       "<style scoped>\n",
       "    .dataframe tbody tr th:only-of-type {\n",
       "        vertical-align: middle;\n",
       "    }\n",
       "\n",
       "    .dataframe tbody tr th {\n",
       "        vertical-align: top;\n",
       "    }\n",
       "\n",
       "    .dataframe thead th {\n",
       "        text-align: right;\n",
       "    }\n",
       "</style>\n",
       "<table border=\"1\" class=\"dataframe\">\n",
       "  <thead>\n",
       "    <tr style=\"text-align: right;\">\n",
       "      <th></th>\n",
       "      <th>2</th>\n",
       "      <th>3</th>\n",
       "      <th>4</th>\n",
       "      <th>5</th>\n",
       "      <th>6</th>\n",
       "      <th>7</th>\n",
       "      <th>8</th>\n",
       "      <th>9</th>\n",
       "      <th>10</th>\n",
       "      <th>11</th>\n",
       "      <th>...</th>\n",
       "      <th>30</th>\n",
       "      <th>31</th>\n",
       "      <th>32</th>\n",
       "      <th>33</th>\n",
       "      <th>34</th>\n",
       "      <th>35</th>\n",
       "      <th>36</th>\n",
       "      <th>37</th>\n",
       "      <th>38</th>\n",
       "      <th>39</th>\n",
       "    </tr>\n",
       "  </thead>\n",
       "  <tbody>\n",
       "    <tr>\n",
       "      <th>0</th>\n",
       "      <td>44101.0</td>\n",
       "      <td>1.5</td>\n",
       "      <td>7.8</td>\n",
       "      <td>NaN</td>\n",
       "      <td>407.0</td>\n",
       "      <td>166.0</td>\n",
       "      <td>66.3</td>\n",
       "      <td>4.5</td>\n",
       "      <td>2110</td>\n",
       "      <td>7.9</td>\n",
       "      <td>...</td>\n",
       "      <td>2000.0</td>\n",
       "      <td>NaN</td>\n",
       "      <td>58.8</td>\n",
       "      <td>95.5</td>\n",
       "      <td>NaN</td>\n",
       "      <td>70.0</td>\n",
       "      <td>NaN</td>\n",
       "      <td>79.4</td>\n",
       "      <td>87.3</td>\n",
       "      <td>99.6</td>\n",
       "    </tr>\n",
       "    <tr>\n",
       "      <th>1</th>\n",
       "      <td>39024.0</td>\n",
       "      <td>3.0</td>\n",
       "      <td>7.7</td>\n",
       "      <td>NaN</td>\n",
       "      <td>443.0</td>\n",
       "      <td>214.0</td>\n",
       "      <td>69.2</td>\n",
       "      <td>6.5</td>\n",
       "      <td>2660</td>\n",
       "      <td>7.7</td>\n",
       "      <td>...</td>\n",
       "      <td>2590.0</td>\n",
       "      <td>NaN</td>\n",
       "      <td>60.7</td>\n",
       "      <td>94.8</td>\n",
       "      <td>NaN</td>\n",
       "      <td>80.8</td>\n",
       "      <td>NaN</td>\n",
       "      <td>79.5</td>\n",
       "      <td>92.1</td>\n",
       "      <td>100.0</td>\n",
       "    </tr>\n",
       "    <tr>\n",
       "      <th>2</th>\n",
       "      <td>32229.0</td>\n",
       "      <td>5.0</td>\n",
       "      <td>7.6</td>\n",
       "      <td>NaN</td>\n",
       "      <td>528.0</td>\n",
       "      <td>186.0</td>\n",
       "      <td>69.9</td>\n",
       "      <td>3.4</td>\n",
       "      <td>1666</td>\n",
       "      <td>7.7</td>\n",
       "      <td>...</td>\n",
       "      <td>1888.0</td>\n",
       "      <td>NaN</td>\n",
       "      <td>58.2</td>\n",
       "      <td>95.6</td>\n",
       "      <td>NaN</td>\n",
       "      <td>52.9</td>\n",
       "      <td>NaN</td>\n",
       "      <td>75.8</td>\n",
       "      <td>88.7</td>\n",
       "      <td>98.5</td>\n",
       "    </tr>\n",
       "    <tr>\n",
       "      <th>3</th>\n",
       "      <td>35023.0</td>\n",
       "      <td>3.5</td>\n",
       "      <td>7.9</td>\n",
       "      <td>205.0</td>\n",
       "      <td>588.0</td>\n",
       "      <td>192.0</td>\n",
       "      <td>65.6</td>\n",
       "      <td>4.5</td>\n",
       "      <td>2430</td>\n",
       "      <td>7.8</td>\n",
       "      <td>...</td>\n",
       "      <td>1840.0</td>\n",
       "      <td>33.1</td>\n",
       "      <td>64.2</td>\n",
       "      <td>95.3</td>\n",
       "      <td>87.3</td>\n",
       "      <td>72.3</td>\n",
       "      <td>90.2</td>\n",
       "      <td>82.3</td>\n",
       "      <td>89.6</td>\n",
       "      <td>100.0</td>\n",
       "    </tr>\n",
       "    <tr>\n",
       "      <th>4</th>\n",
       "      <td>36924.0</td>\n",
       "      <td>1.5</td>\n",
       "      <td>8.0</td>\n",
       "      <td>242.0</td>\n",
       "      <td>496.0</td>\n",
       "      <td>176.0</td>\n",
       "      <td>64.8</td>\n",
       "      <td>4.0</td>\n",
       "      <td>2110</td>\n",
       "      <td>7.9</td>\n",
       "      <td>...</td>\n",
       "      <td>2120.0</td>\n",
       "      <td>NaN</td>\n",
       "      <td>62.7</td>\n",
       "      <td>95.6</td>\n",
       "      <td>NaN</td>\n",
       "      <td>71.0</td>\n",
       "      <td>92.1</td>\n",
       "      <td>78.2</td>\n",
       "      <td>87.5</td>\n",
       "      <td>99.5</td>\n",
       "    </tr>\n",
       "  </tbody>\n",
       "</table>\n",
       "<p>5 rows × 38 columns</p>\n",
       "</div>"
      ],
      "text/plain": [
       "         2    3    4      5      6      7     8    9    10   11  ...    \\\n",
       "0  44101.0  1.5  7.8    NaN  407.0  166.0  66.3  4.5  2110  7.9  ...     \n",
       "1  39024.0  3.0  7.7    NaN  443.0  214.0  69.2  6.5  2660  7.7  ...     \n",
       "2  32229.0  5.0  7.6    NaN  528.0  186.0  69.9  3.4  1666  7.7  ...     \n",
       "3  35023.0  3.5  7.9  205.0  588.0  192.0  65.6  4.5  2430  7.8  ...     \n",
       "4  36924.0  1.5  8.0  242.0  496.0  176.0  64.8  4.0  2110  7.9  ...     \n",
       "\n",
       "       30    31    32    33    34    35    36    37    38     39  \n",
       "0  2000.0   NaN  58.8  95.5   NaN  70.0   NaN  79.4  87.3   99.6  \n",
       "1  2590.0   NaN  60.7  94.8   NaN  80.8   NaN  79.5  92.1  100.0  \n",
       "2  1888.0   NaN  58.2  95.6   NaN  52.9   NaN  75.8  88.7   98.5  \n",
       "3  1840.0  33.1  64.2  95.3  87.3  72.3  90.2  82.3  89.6  100.0  \n",
       "4  2120.0   NaN  62.7  95.6   NaN  71.0  92.1  78.2  87.5   99.5  \n",
       "\n",
       "[5 rows x 38 columns]"
      ]
     },
     "execution_count": 276,
     "metadata": {},
     "output_type": "execute_result"
    }
   ],
   "source": [
    "data = data.applymap(lambda x: isnumberFloat(x))\n",
    "data = data.apply(pd.to_numeric)\n",
    "data.head()"
   ]
  },
  {
   "cell_type": "code",
   "execution_count": 277,
   "metadata": {},
   "outputs": [
    {
     "data": {
      "text/plain": [
       "2      3.415560\n",
       "3      0.569260\n",
       "4      0.000000\n",
       "5      4.364326\n",
       "6      1.138520\n",
       "7      0.189753\n",
       "8      2.087287\n",
       "9      4.743833\n",
       "10     0.000000\n",
       "11     0.000000\n",
       "12     7.590133\n",
       "13     0.000000\n",
       "14     2.087287\n",
       "15     4.554080\n",
       "16     0.000000\n",
       "17     0.000000\n",
       "18     5.313093\n",
       "19     1.707780\n",
       "20     0.379507\n",
       "21     2.466793\n",
       "22     4.743833\n",
       "23     0.000000\n",
       "24     0.189753\n",
       "25     4.364326\n",
       "26     3.415560\n",
       "27     0.948767\n",
       "28     3.225806\n",
       "29     5.313093\n",
       "30     0.189753\n",
       "31    11.764706\n",
       "32     0.759013\n",
       "33     5.123340\n",
       "34     7.590133\n",
       "35     4.933586\n",
       "36     6.831120\n",
       "37     4.743833\n",
       "38     1.518027\n",
       "39     5.882353\n",
       "dtype: float64"
      ]
     },
     "execution_count": 277,
     "metadata": {},
     "output_type": "execute_result"
    }
   ],
   "source": [
    "data.isnull().sum()/len(data)*100"
   ]
  },
  {
   "cell_type": "markdown",
   "metadata": {},
   "source": [
    "## Handle with Missing Values"
   ]
  },
  {
   "cell_type": "code",
   "execution_count": 278,
   "metadata": {},
   "outputs": [
    {
     "data": {
      "text/html": [
       "<div>\n",
       "<style scoped>\n",
       "    .dataframe tbody tr th:only-of-type {\n",
       "        vertical-align: middle;\n",
       "    }\n",
       "\n",
       "    .dataframe tbody tr th {\n",
       "        vertical-align: top;\n",
       "    }\n",
       "\n",
       "    .dataframe thead th {\n",
       "        text-align: right;\n",
       "    }\n",
       "</style>\n",
       "<table border=\"1\" class=\"dataframe\">\n",
       "  <thead>\n",
       "    <tr style=\"text-align: right;\">\n",
       "      <th></th>\n",
       "      <th>2</th>\n",
       "      <th>3</th>\n",
       "      <th>4</th>\n",
       "      <th>5</th>\n",
       "      <th>6</th>\n",
       "      <th>7</th>\n",
       "      <th>8</th>\n",
       "      <th>9</th>\n",
       "      <th>10</th>\n",
       "      <th>11</th>\n",
       "      <th>...</th>\n",
       "      <th>30</th>\n",
       "      <th>31</th>\n",
       "      <th>32</th>\n",
       "      <th>33</th>\n",
       "      <th>34</th>\n",
       "      <th>35</th>\n",
       "      <th>36</th>\n",
       "      <th>37</th>\n",
       "      <th>38</th>\n",
       "      <th>39</th>\n",
       "    </tr>\n",
       "  </thead>\n",
       "  <tbody>\n",
       "    <tr>\n",
       "      <th>0</th>\n",
       "      <td>44101.0</td>\n",
       "      <td>1.5</td>\n",
       "      <td>7.8</td>\n",
       "      <td>133.0</td>\n",
       "      <td>407.0</td>\n",
       "      <td>166.0</td>\n",
       "      <td>66.3</td>\n",
       "      <td>4.5</td>\n",
       "      <td>2110</td>\n",
       "      <td>7.9</td>\n",
       "      <td>...</td>\n",
       "      <td>2000.0</td>\n",
       "      <td>36.9</td>\n",
       "      <td>58.8</td>\n",
       "      <td>95.5</td>\n",
       "      <td>85.5</td>\n",
       "      <td>70.0</td>\n",
       "      <td>90.3</td>\n",
       "      <td>79.4</td>\n",
       "      <td>87.3</td>\n",
       "      <td>99.6</td>\n",
       "    </tr>\n",
       "    <tr>\n",
       "      <th>1</th>\n",
       "      <td>39024.0</td>\n",
       "      <td>3.0</td>\n",
       "      <td>7.7</td>\n",
       "      <td>133.0</td>\n",
       "      <td>443.0</td>\n",
       "      <td>214.0</td>\n",
       "      <td>69.2</td>\n",
       "      <td>6.5</td>\n",
       "      <td>2660</td>\n",
       "      <td>7.7</td>\n",
       "      <td>...</td>\n",
       "      <td>2590.0</td>\n",
       "      <td>36.9</td>\n",
       "      <td>60.7</td>\n",
       "      <td>94.8</td>\n",
       "      <td>85.5</td>\n",
       "      <td>80.8</td>\n",
       "      <td>90.3</td>\n",
       "      <td>79.5</td>\n",
       "      <td>92.1</td>\n",
       "      <td>100.0</td>\n",
       "    </tr>\n",
       "    <tr>\n",
       "      <th>2</th>\n",
       "      <td>32229.0</td>\n",
       "      <td>5.0</td>\n",
       "      <td>7.6</td>\n",
       "      <td>133.0</td>\n",
       "      <td>528.0</td>\n",
       "      <td>186.0</td>\n",
       "      <td>69.9</td>\n",
       "      <td>3.4</td>\n",
       "      <td>1666</td>\n",
       "      <td>7.7</td>\n",
       "      <td>...</td>\n",
       "      <td>1888.0</td>\n",
       "      <td>36.9</td>\n",
       "      <td>58.2</td>\n",
       "      <td>95.6</td>\n",
       "      <td>85.5</td>\n",
       "      <td>52.9</td>\n",
       "      <td>90.3</td>\n",
       "      <td>75.8</td>\n",
       "      <td>88.7</td>\n",
       "      <td>98.5</td>\n",
       "    </tr>\n",
       "    <tr>\n",
       "      <th>3</th>\n",
       "      <td>35023.0</td>\n",
       "      <td>3.5</td>\n",
       "      <td>7.9</td>\n",
       "      <td>205.0</td>\n",
       "      <td>588.0</td>\n",
       "      <td>192.0</td>\n",
       "      <td>65.6</td>\n",
       "      <td>4.5</td>\n",
       "      <td>2430</td>\n",
       "      <td>7.8</td>\n",
       "      <td>...</td>\n",
       "      <td>1840.0</td>\n",
       "      <td>33.1</td>\n",
       "      <td>64.2</td>\n",
       "      <td>95.3</td>\n",
       "      <td>87.3</td>\n",
       "      <td>72.3</td>\n",
       "      <td>90.2</td>\n",
       "      <td>82.3</td>\n",
       "      <td>89.6</td>\n",
       "      <td>100.0</td>\n",
       "    </tr>\n",
       "    <tr>\n",
       "      <th>4</th>\n",
       "      <td>36924.0</td>\n",
       "      <td>1.5</td>\n",
       "      <td>8.0</td>\n",
       "      <td>242.0</td>\n",
       "      <td>496.0</td>\n",
       "      <td>176.0</td>\n",
       "      <td>64.8</td>\n",
       "      <td>4.0</td>\n",
       "      <td>2110</td>\n",
       "      <td>7.9</td>\n",
       "      <td>...</td>\n",
       "      <td>2120.0</td>\n",
       "      <td>36.9</td>\n",
       "      <td>62.7</td>\n",
       "      <td>95.6</td>\n",
       "      <td>85.5</td>\n",
       "      <td>71.0</td>\n",
       "      <td>92.1</td>\n",
       "      <td>78.2</td>\n",
       "      <td>87.5</td>\n",
       "      <td>99.5</td>\n",
       "    </tr>\n",
       "  </tbody>\n",
       "</table>\n",
       "<p>5 rows × 38 columns</p>\n",
       "</div>"
      ],
      "text/plain": [
       "         2    3    4      5      6      7     8    9    10   11  ...    \\\n",
       "0  44101.0  1.5  7.8  133.0  407.0  166.0  66.3  4.5  2110  7.9  ...     \n",
       "1  39024.0  3.0  7.7  133.0  443.0  214.0  69.2  6.5  2660  7.7  ...     \n",
       "2  32229.0  5.0  7.6  133.0  528.0  186.0  69.9  3.4  1666  7.7  ...     \n",
       "3  35023.0  3.5  7.9  205.0  588.0  192.0  65.6  4.5  2430  7.8  ...     \n",
       "4  36924.0  1.5  8.0  242.0  496.0  176.0  64.8  4.0  2110  7.9  ...     \n",
       "\n",
       "       30    31    32    33    34    35    36    37    38     39  \n",
       "0  2000.0  36.9  58.8  95.5  85.5  70.0  90.3  79.4  87.3   99.6  \n",
       "1  2590.0  36.9  60.7  94.8  85.5  80.8  90.3  79.5  92.1  100.0  \n",
       "2  1888.0  36.9  58.2  95.6  85.5  52.9  90.3  75.8  88.7   98.5  \n",
       "3  1840.0  33.1  64.2  95.3  87.3  72.3  90.2  82.3  89.6  100.0  \n",
       "4  2120.0  36.9  62.7  95.6  85.5  71.0  92.1  78.2  87.5   99.5  \n",
       "\n",
       "[5 rows x 38 columns]"
      ]
     },
     "execution_count": 278,
     "metadata": {},
     "output_type": "execute_result"
    }
   ],
   "source": [
    "data.mode()\n",
    "mostFrequent = data.mode().loc[0]\n",
    "temp = data.fillna(mostFrequent)\n",
    "temp.head()"
   ]
  },
  {
   "cell_type": "code",
   "execution_count": 279,
   "metadata": {},
   "outputs": [
    {
     "data": {
      "text/html": [
       "<div>\n",
       "<style scoped>\n",
       "    .dataframe tbody tr th:only-of-type {\n",
       "        vertical-align: middle;\n",
       "    }\n",
       "\n",
       "    .dataframe tbody tr th {\n",
       "        vertical-align: top;\n",
       "    }\n",
       "\n",
       "    .dataframe thead th {\n",
       "        text-align: right;\n",
       "    }\n",
       "</style>\n",
       "<table border=\"1\" class=\"dataframe\">\n",
       "  <thead>\n",
       "    <tr style=\"text-align: right;\">\n",
       "      <th></th>\n",
       "      <th>0</th>\n",
       "      <th>1</th>\n",
       "      <th>2</th>\n",
       "      <th>3</th>\n",
       "      <th>4</th>\n",
       "      <th>5</th>\n",
       "      <th>6</th>\n",
       "      <th>7</th>\n",
       "      <th>8</th>\n",
       "      <th>9</th>\n",
       "      <th>...</th>\n",
       "      <th>28</th>\n",
       "      <th>29</th>\n",
       "      <th>30</th>\n",
       "      <th>31</th>\n",
       "      <th>32</th>\n",
       "      <th>33</th>\n",
       "      <th>34</th>\n",
       "      <th>35</th>\n",
       "      <th>36</th>\n",
       "      <th>37</th>\n",
       "    </tr>\n",
       "  </thead>\n",
       "  <tbody>\n",
       "    <tr>\n",
       "      <th>0</th>\n",
       "      <td>44101.0</td>\n",
       "      <td>1.5</td>\n",
       "      <td>7.8</td>\n",
       "      <td>133.0</td>\n",
       "      <td>407.0</td>\n",
       "      <td>166.0</td>\n",
       "      <td>66.3</td>\n",
       "      <td>4.5</td>\n",
       "      <td>2110.0</td>\n",
       "      <td>7.9</td>\n",
       "      <td>...</td>\n",
       "      <td>2000.0</td>\n",
       "      <td>36.9</td>\n",
       "      <td>58.8</td>\n",
       "      <td>95.5</td>\n",
       "      <td>85.5</td>\n",
       "      <td>70.0</td>\n",
       "      <td>90.3</td>\n",
       "      <td>79.4</td>\n",
       "      <td>87.3</td>\n",
       "      <td>99.6</td>\n",
       "    </tr>\n",
       "    <tr>\n",
       "      <th>1</th>\n",
       "      <td>39024.0</td>\n",
       "      <td>3.0</td>\n",
       "      <td>7.7</td>\n",
       "      <td>133.0</td>\n",
       "      <td>443.0</td>\n",
       "      <td>214.0</td>\n",
       "      <td>69.2</td>\n",
       "      <td>6.5</td>\n",
       "      <td>2660.0</td>\n",
       "      <td>7.7</td>\n",
       "      <td>...</td>\n",
       "      <td>2590.0</td>\n",
       "      <td>36.9</td>\n",
       "      <td>60.7</td>\n",
       "      <td>94.8</td>\n",
       "      <td>85.5</td>\n",
       "      <td>80.8</td>\n",
       "      <td>90.3</td>\n",
       "      <td>79.5</td>\n",
       "      <td>92.1</td>\n",
       "      <td>100.0</td>\n",
       "    </tr>\n",
       "    <tr>\n",
       "      <th>2</th>\n",
       "      <td>32229.0</td>\n",
       "      <td>5.0</td>\n",
       "      <td>7.6</td>\n",
       "      <td>133.0</td>\n",
       "      <td>528.0</td>\n",
       "      <td>186.0</td>\n",
       "      <td>69.9</td>\n",
       "      <td>3.4</td>\n",
       "      <td>1666.0</td>\n",
       "      <td>7.7</td>\n",
       "      <td>...</td>\n",
       "      <td>1888.0</td>\n",
       "      <td>36.9</td>\n",
       "      <td>58.2</td>\n",
       "      <td>95.6</td>\n",
       "      <td>85.5</td>\n",
       "      <td>52.9</td>\n",
       "      <td>90.3</td>\n",
       "      <td>75.8</td>\n",
       "      <td>88.7</td>\n",
       "      <td>98.5</td>\n",
       "    </tr>\n",
       "    <tr>\n",
       "      <th>3</th>\n",
       "      <td>35023.0</td>\n",
       "      <td>3.5</td>\n",
       "      <td>7.9</td>\n",
       "      <td>205.0</td>\n",
       "      <td>588.0</td>\n",
       "      <td>192.0</td>\n",
       "      <td>65.6</td>\n",
       "      <td>4.5</td>\n",
       "      <td>2430.0</td>\n",
       "      <td>7.8</td>\n",
       "      <td>...</td>\n",
       "      <td>1840.0</td>\n",
       "      <td>33.1</td>\n",
       "      <td>64.2</td>\n",
       "      <td>95.3</td>\n",
       "      <td>87.3</td>\n",
       "      <td>72.3</td>\n",
       "      <td>90.2</td>\n",
       "      <td>82.3</td>\n",
       "      <td>89.6</td>\n",
       "      <td>100.0</td>\n",
       "    </tr>\n",
       "    <tr>\n",
       "      <th>4</th>\n",
       "      <td>36924.0</td>\n",
       "      <td>1.5</td>\n",
       "      <td>8.0</td>\n",
       "      <td>242.0</td>\n",
       "      <td>496.0</td>\n",
       "      <td>176.0</td>\n",
       "      <td>64.8</td>\n",
       "      <td>4.0</td>\n",
       "      <td>2110.0</td>\n",
       "      <td>7.9</td>\n",
       "      <td>...</td>\n",
       "      <td>2120.0</td>\n",
       "      <td>36.9</td>\n",
       "      <td>62.7</td>\n",
       "      <td>95.6</td>\n",
       "      <td>85.5</td>\n",
       "      <td>71.0</td>\n",
       "      <td>92.1</td>\n",
       "      <td>78.2</td>\n",
       "      <td>87.5</td>\n",
       "      <td>99.5</td>\n",
       "    </tr>\n",
       "  </tbody>\n",
       "</table>\n",
       "<p>5 rows × 38 columns</p>\n",
       "</div>"
      ],
      "text/plain": [
       "        0    1    2      3      4      5     6    7       8    9   ...    \\\n",
       "0  44101.0  1.5  7.8  133.0  407.0  166.0  66.3  4.5  2110.0  7.9  ...     \n",
       "1  39024.0  3.0  7.7  133.0  443.0  214.0  69.2  6.5  2660.0  7.7  ...     \n",
       "2  32229.0  5.0  7.6  133.0  528.0  186.0  69.9  3.4  1666.0  7.7  ...     \n",
       "3  35023.0  3.5  7.9  205.0  588.0  192.0  65.6  4.5  2430.0  7.8  ...     \n",
       "4  36924.0  1.5  8.0  242.0  496.0  176.0  64.8  4.0  2110.0  7.9  ...     \n",
       "\n",
       "       28    29    30    31    32    33    34    35    36     37  \n",
       "0  2000.0  36.9  58.8  95.5  85.5  70.0  90.3  79.4  87.3   99.6  \n",
       "1  2590.0  36.9  60.7  94.8  85.5  80.8  90.3  79.5  92.1  100.0  \n",
       "2  1888.0  36.9  58.2  95.6  85.5  52.9  90.3  75.8  88.7   98.5  \n",
       "3  1840.0  33.1  64.2  95.3  87.3  72.3  90.2  82.3  89.6  100.0  \n",
       "4  2120.0  36.9  62.7  95.6  85.5  71.0  92.1  78.2  87.5   99.5  \n",
       "\n",
       "[5 rows x 38 columns]"
      ]
     },
     "execution_count": 279,
     "metadata": {},
     "output_type": "execute_result"
    }
   ],
   "source": [
    "from sklearn.preprocessing import Imputer\n",
    "imputer = Imputer(missing_values='NaN', strategy='most_frequent').fit(data)\n",
    "data = pd.DataFrame(imputer.transform(data))\n",
    "data.head()"
   ]
  },
  {
   "cell_type": "code",
   "execution_count": 280,
   "metadata": {},
   "outputs": [
    {
     "name": "stdout",
     "output_type": "stream",
     "text": [
      "Veri ile ilgili istatistiksel bilgiler:\n"
     ]
    },
    {
     "data": {
      "text/html": [
       "<div>\n",
       "<style scoped>\n",
       "    .dataframe tbody tr th:only-of-type {\n",
       "        vertical-align: middle;\n",
       "    }\n",
       "\n",
       "    .dataframe tbody tr th {\n",
       "        vertical-align: top;\n",
       "    }\n",
       "\n",
       "    .dataframe thead th {\n",
       "        text-align: right;\n",
       "    }\n",
       "</style>\n",
       "<table border=\"1\" class=\"dataframe\">\n",
       "  <thead>\n",
       "    <tr style=\"text-align: right;\">\n",
       "      <th></th>\n",
       "      <th>0</th>\n",
       "      <th>1</th>\n",
       "      <th>2</th>\n",
       "      <th>3</th>\n",
       "      <th>4</th>\n",
       "      <th>5</th>\n",
       "      <th>6</th>\n",
       "      <th>7</th>\n",
       "      <th>8</th>\n",
       "      <th>9</th>\n",
       "      <th>...</th>\n",
       "      <th>28</th>\n",
       "      <th>29</th>\n",
       "      <th>30</th>\n",
       "      <th>31</th>\n",
       "      <th>32</th>\n",
       "      <th>33</th>\n",
       "      <th>34</th>\n",
       "      <th>35</th>\n",
       "      <th>36</th>\n",
       "      <th>37</th>\n",
       "    </tr>\n",
       "  </thead>\n",
       "  <tbody>\n",
       "    <tr>\n",
       "      <th>count</th>\n",
       "      <td>527.000000</td>\n",
       "      <td>527.000000</td>\n",
       "      <td>527.000000</td>\n",
       "      <td>527.000000</td>\n",
       "      <td>527.000000</td>\n",
       "      <td>527.000000</td>\n",
       "      <td>527.000000</td>\n",
       "      <td>527.000000</td>\n",
       "      <td>527.000000</td>\n",
       "      <td>527.000000</td>\n",
       "      <td>...</td>\n",
       "      <td>527.000000</td>\n",
       "      <td>527.000000</td>\n",
       "      <td>527.000000</td>\n",
       "      <td>527.000000</td>\n",
       "      <td>527.000000</td>\n",
       "      <td>527.000000</td>\n",
       "      <td>527.000000</td>\n",
       "      <td>527.000000</td>\n",
       "      <td>527.000000</td>\n",
       "      <td>527.000000</td>\n",
       "    </tr>\n",
       "    <tr>\n",
       "      <th>mean</th>\n",
       "      <td>36960.886148</td>\n",
       "      <td>2.351328</td>\n",
       "      <td>7.810057</td>\n",
       "      <td>186.282732</td>\n",
       "      <td>406.592030</td>\n",
       "      <td>227.339658</td>\n",
       "      <td>61.503985</td>\n",
       "      <td>4.589374</td>\n",
       "      <td>1478.620493</td>\n",
       "      <td>7.829981</td>\n",
       "      <td>...</td>\n",
       "      <td>1494.635674</td>\n",
       "      <td>38.828653</td>\n",
       "      <td>58.454080</td>\n",
       "      <td>90.694877</td>\n",
       "      <td>83.603795</td>\n",
       "      <td>68.107590</td>\n",
       "      <td>89.101518</td>\n",
       "      <td>78.072106</td>\n",
       "      <td>89.006452</td>\n",
       "      <td>99.140038</td>\n",
       "    </tr>\n",
       "    <tr>\n",
       "      <th>std</th>\n",
       "      <td>6673.033177</td>\n",
       "      <td>2.743567</td>\n",
       "      <td>0.246175</td>\n",
       "      <td>61.750924</td>\n",
       "      <td>119.708608</td>\n",
       "      <td>135.832780</td>\n",
       "      <td>12.308208</td>\n",
       "      <td>2.678019</td>\n",
       "      <td>394.898019</td>\n",
       "      <td>0.226925</td>\n",
       "      <td>...</td>\n",
       "      <td>387.559729</td>\n",
       "      <td>13.911690</td>\n",
       "      <td>12.775228</td>\n",
       "      <td>8.733228</td>\n",
       "      <td>8.480339</td>\n",
       "      <td>11.398403</td>\n",
       "      <td>6.790672</td>\n",
       "      <td>8.728821</td>\n",
       "      <td>8.166234</td>\n",
       "      <td>4.329180</td>\n",
       "    </tr>\n",
       "    <tr>\n",
       "      <th>min</th>\n",
       "      <td>10050.000000</td>\n",
       "      <td>0.100000</td>\n",
       "      <td>6.900000</td>\n",
       "      <td>31.000000</td>\n",
       "      <td>81.000000</td>\n",
       "      <td>98.000000</td>\n",
       "      <td>13.200000</td>\n",
       "      <td>0.400000</td>\n",
       "      <td>651.000000</td>\n",
       "      <td>7.300000</td>\n",
       "      <td>...</td>\n",
       "      <td>683.000000</td>\n",
       "      <td>0.600000</td>\n",
       "      <td>5.300000</td>\n",
       "      <td>7.700000</td>\n",
       "      <td>8.200000</td>\n",
       "      <td>1.400000</td>\n",
       "      <td>19.600000</td>\n",
       "      <td>19.200000</td>\n",
       "      <td>10.300000</td>\n",
       "      <td>36.400000</td>\n",
       "    </tr>\n",
       "    <tr>\n",
       "      <th>25%</th>\n",
       "      <td>32557.500000</td>\n",
       "      <td>0.900000</td>\n",
       "      <td>7.600000</td>\n",
       "      <td>139.500000</td>\n",
       "      <td>326.500000</td>\n",
       "      <td>170.000000</td>\n",
       "      <td>55.850000</td>\n",
       "      <td>3.200000</td>\n",
       "      <td>1201.000000</td>\n",
       "      <td>7.700000</td>\n",
       "      <td>...</td>\n",
       "      <td>1235.000000</td>\n",
       "      <td>31.150000</td>\n",
       "      <td>50.450000</td>\n",
       "      <td>88.900000</td>\n",
       "      <td>81.800000</td>\n",
       "      <td>63.400000</td>\n",
       "      <td>87.800000</td>\n",
       "      <td>74.250000</td>\n",
       "      <td>87.700000</td>\n",
       "      <td>99.400000</td>\n",
       "    </tr>\n",
       "    <tr>\n",
       "      <th>50%</th>\n",
       "      <td>35729.000000</td>\n",
       "      <td>1.500000</td>\n",
       "      <td>7.800000</td>\n",
       "      <td>179.000000</td>\n",
       "      <td>397.000000</td>\n",
       "      <td>196.000000</td>\n",
       "      <td>64.500000</td>\n",
       "      <td>4.500000</td>\n",
       "      <td>1406.000000</td>\n",
       "      <td>7.800000</td>\n",
       "      <td>...</td>\n",
       "      <td>1431.000000</td>\n",
       "      <td>36.900000</td>\n",
       "      <td>59.300000</td>\n",
       "      <td>93.300000</td>\n",
       "      <td>85.500000</td>\n",
       "      <td>70.400000</td>\n",
       "      <td>90.300000</td>\n",
       "      <td>79.500000</td>\n",
       "      <td>90.800000</td>\n",
       "      <td>99.800000</td>\n",
       "    </tr>\n",
       "    <tr>\n",
       "      <th>75%</th>\n",
       "      <td>41094.000000</td>\n",
       "      <td>3.000000</td>\n",
       "      <td>8.000000</td>\n",
       "      <td>222.000000</td>\n",
       "      <td>474.500000</td>\n",
       "      <td>242.000000</td>\n",
       "      <td>69.600000</td>\n",
       "      <td>5.500000</td>\n",
       "      <td>1672.000000</td>\n",
       "      <td>8.000000</td>\n",
       "      <td>...</td>\n",
       "      <td>1691.500000</td>\n",
       "      <td>47.650000</td>\n",
       "      <td>66.800000</td>\n",
       "      <td>95.700000</td>\n",
       "      <td>87.700000</td>\n",
       "      <td>75.000000</td>\n",
       "      <td>92.300000</td>\n",
       "      <td>83.200000</td>\n",
       "      <td>93.000000</td>\n",
       "      <td>100.000000</td>\n",
       "    </tr>\n",
       "    <tr>\n",
       "      <th>max</th>\n",
       "      <td>60081.000000</td>\n",
       "      <td>33.500000</td>\n",
       "      <td>8.700000</td>\n",
       "      <td>438.000000</td>\n",
       "      <td>941.000000</td>\n",
       "      <td>2008.000000</td>\n",
       "      <td>85.000000</td>\n",
       "      <td>36.000000</td>\n",
       "      <td>3230.000000</td>\n",
       "      <td>8.500000</td>\n",
       "      <td>...</td>\n",
       "      <td>3950.000000</td>\n",
       "      <td>79.100000</td>\n",
       "      <td>96.100000</td>\n",
       "      <td>100.000000</td>\n",
       "      <td>94.700000</td>\n",
       "      <td>96.800000</td>\n",
       "      <td>97.000000</td>\n",
       "      <td>98.100000</td>\n",
       "      <td>99.400000</td>\n",
       "      <td>100.000000</td>\n",
       "    </tr>\n",
       "  </tbody>\n",
       "</table>\n",
       "<p>8 rows × 38 columns</p>\n",
       "</div>"
      ],
      "text/plain": [
       "                 0           1           2           3           4   \\\n",
       "count    527.000000  527.000000  527.000000  527.000000  527.000000   \n",
       "mean   36960.886148    2.351328    7.810057  186.282732  406.592030   \n",
       "std     6673.033177    2.743567    0.246175   61.750924  119.708608   \n",
       "min    10050.000000    0.100000    6.900000   31.000000   81.000000   \n",
       "25%    32557.500000    0.900000    7.600000  139.500000  326.500000   \n",
       "50%    35729.000000    1.500000    7.800000  179.000000  397.000000   \n",
       "75%    41094.000000    3.000000    8.000000  222.000000  474.500000   \n",
       "max    60081.000000   33.500000    8.700000  438.000000  941.000000   \n",
       "\n",
       "                5           6           7            8           9   \\\n",
       "count   527.000000  527.000000  527.000000   527.000000  527.000000   \n",
       "mean    227.339658   61.503985    4.589374  1478.620493    7.829981   \n",
       "std     135.832780   12.308208    2.678019   394.898019    0.226925   \n",
       "min      98.000000   13.200000    0.400000   651.000000    7.300000   \n",
       "25%     170.000000   55.850000    3.200000  1201.000000    7.700000   \n",
       "50%     196.000000   64.500000    4.500000  1406.000000    7.800000   \n",
       "75%     242.000000   69.600000    5.500000  1672.000000    8.000000   \n",
       "max    2008.000000   85.000000   36.000000  3230.000000    8.500000   \n",
       "\n",
       "          ...               28          29          30          31  \\\n",
       "count     ...       527.000000  527.000000  527.000000  527.000000   \n",
       "mean      ...      1494.635674   38.828653   58.454080   90.694877   \n",
       "std       ...       387.559729   13.911690   12.775228    8.733228   \n",
       "min       ...       683.000000    0.600000    5.300000    7.700000   \n",
       "25%       ...      1235.000000   31.150000   50.450000   88.900000   \n",
       "50%       ...      1431.000000   36.900000   59.300000   93.300000   \n",
       "75%       ...      1691.500000   47.650000   66.800000   95.700000   \n",
       "max       ...      3950.000000   79.100000   96.100000  100.000000   \n",
       "\n",
       "               32          33          34          35          36          37  \n",
       "count  527.000000  527.000000  527.000000  527.000000  527.000000  527.000000  \n",
       "mean    83.603795   68.107590   89.101518   78.072106   89.006452   99.140038  \n",
       "std      8.480339   11.398403    6.790672    8.728821    8.166234    4.329180  \n",
       "min      8.200000    1.400000   19.600000   19.200000   10.300000   36.400000  \n",
       "25%     81.800000   63.400000   87.800000   74.250000   87.700000   99.400000  \n",
       "50%     85.500000   70.400000   90.300000   79.500000   90.800000   99.800000  \n",
       "75%     87.700000   75.000000   92.300000   83.200000   93.000000  100.000000  \n",
       "max     94.700000   96.800000   97.000000   98.100000   99.400000  100.000000  \n",
       "\n",
       "[8 rows x 38 columns]"
      ]
     },
     "execution_count": 280,
     "metadata": {},
     "output_type": "execute_result"
    }
   ],
   "source": [
    "print(\"Veri ile ilgili istatistiksel bilgiler:\")\n",
    "data.describe()"
   ]
  },
  {
   "cell_type": "code",
   "execution_count": 281,
   "metadata": {},
   "outputs": [
    {
     "name": "stdout",
     "output_type": "stream",
     "text": [
      "Değişmiş haliyle Öznitelik türleri:\n",
      " 0     float64\n",
      "1     float64\n",
      "2     float64\n",
      "3     float64\n",
      "4     float64\n",
      "5     float64\n",
      "6     float64\n",
      "7     float64\n",
      "8     float64\n",
      "9     float64\n",
      "10    float64\n",
      "11    float64\n",
      "12    float64\n",
      "13    float64\n",
      "14    float64\n",
      "15    float64\n",
      "16    float64\n",
      "17    float64\n",
      "18    float64\n",
      "19    float64\n",
      "20    float64\n",
      "21    float64\n",
      "22    float64\n",
      "23    float64\n",
      "24    float64\n",
      "25    float64\n",
      "26    float64\n",
      "27    float64\n",
      "28    float64\n",
      "29    float64\n",
      "30    float64\n",
      "31    float64\n",
      "32    float64\n",
      "33    float64\n",
      "34    float64\n",
      "35    float64\n",
      "36    float64\n",
      "37    float64\n",
      "dtype: object\n"
     ]
    }
   ],
   "source": [
    "print('Değişmiş haliyle Öznitelik türleri:\\n', data.dtypes)"
   ]
  },
  {
   "cell_type": "markdown",
   "metadata": {},
   "source": [
    "## Outlier Detection"
   ]
  },
  {
   "cell_type": "code",
   "execution_count": 282,
   "metadata": {},
   "outputs": [
    {
     "data": {
      "image/png": "[encoded data removed]",
      "text/plain": [
       "<Figure size 576x576 with 1 Axes>"
      ]
     },
     "metadata": {
      "needs_background": "light"
     },
     "output_type": "display_data"
    }
   ],
   "source": [
    "import numpy as np\n",
    "import matplotlib.pyplot as plt\n",
    "%matplotlib inline \n",
    "\n",
    "plt.figure(figsize=[8,8])\n",
    "plt.boxplot([data[32],data[33], data[34]])\n",
    "plt.show()"
   ]
  },
  {
   "cell_type": "code",
   "execution_count": 283,
   "metadata": {},
   "outputs": [
    {
     "name": "stdout",
     "output_type": "stream",
     "text": [
      "Q1:\n",
      " 0     32557.50\n",
      "1         0.90\n",
      "2         7.60\n",
      "3       139.50\n",
      "4       326.50\n",
      "5       170.00\n",
      "6        55.85\n",
      "7         3.20\n",
      "8      1201.00\n",
      "9         7.70\n",
      "10      140.00\n",
      "11      184.00\n",
      "12       54.20\n",
      "13        3.00\n",
      "14     1217.00\n",
      "15        7.70\n",
      "16       98.00\n",
      "17      221.50\n",
      "18       78.00\n",
      "19       66.70\n",
      "20        0.20\n",
      "21     1225.50\n",
      "22        7.60\n",
      "23       14.00\n",
      "24       65.00\n",
      "25       14.00\n",
      "26       75.15\n",
      "27        0.00\n",
      "28     1235.00\n",
      "29       31.15\n",
      "30       50.45\n",
      "31       88.90\n",
      "32       81.80\n",
      "33       63.40\n",
      "34       87.80\n",
      "35       74.25\n",
      "36       87.70\n",
      "37       99.40\n",
      "Name: 0.25, dtype: float64\n",
      "Q3:\n",
      " 0     41094.00\n",
      "1         3.00\n",
      "2         8.00\n",
      "3       222.00\n",
      "4       474.50\n",
      "5       242.00\n",
      "6        69.60\n",
      "7         5.50\n",
      "8      1672.00\n",
      "9         8.00\n",
      "10      238.50\n",
      "11      272.00\n",
      "12       68.80\n",
      "13        6.00\n",
      "14     1713.50\n",
      "15        7.90\n",
      "16      147.00\n",
      "17      325.00\n",
      "18      106.00\n",
      "19       79.35\n",
      "20        0.50\n",
      "21     1701.00\n",
      "22        7.80\n",
      "23       22.00\n",
      "24      100.00\n",
      "25       24.00\n",
      "26       85.70\n",
      "27        0.02\n",
      "28     1691.50\n",
      "29       47.65\n",
      "30       66.80\n",
      "31       95.70\n",
      "32       87.70\n",
      "33       75.00\n",
      "34       92.30\n",
      "35       83.20\n",
      "36       93.00\n",
      "37      100.00\n",
      "Name: 0.75, dtype: float64\n",
      "IQR:\n",
      " 0     8536.50\n",
      "1        2.10\n",
      "2        0.40\n",
      "3       82.50\n",
      "4      148.00\n",
      "5       72.00\n",
      "6       13.75\n",
      "7        2.30\n",
      "8      471.00\n",
      "9        0.30\n",
      "10      98.50\n",
      "11      88.00\n",
      "12      14.60\n",
      "13       3.00\n",
      "14     496.50\n",
      "15       0.20\n",
      "16      49.00\n",
      "17     103.50\n",
      "18      28.00\n",
      "19      12.65\n",
      "20       0.30\n",
      "21     475.50\n",
      "22       0.20\n",
      "23       8.00\n",
      "24      35.00\n",
      "25      10.00\n",
      "26      10.55\n",
      "27       0.02\n",
      "28     456.50\n",
      "29      16.50\n",
      "30      16.35\n",
      "31       6.80\n",
      "32       5.90\n",
      "33      11.60\n",
      "34       4.50\n",
      "35       8.95\n",
      "36       5.30\n",
      "37       0.60\n",
      "dtype: float64\n"
     ]
    }
   ],
   "source": [
    "Q1 = data.quantile(0.25)\n",
    "print('Q1:\\n', Q1)\n",
    "Q3 = data.quantile(0.75)\n",
    "print('Q3:\\n', Q3)\n",
    "IQR = Q3 - Q1\n",
    "print('IQR:\\n',IQR)"
   ]
  },
  {
   "cell_type": "code",
   "execution_count": 284,
   "metadata": {},
   "outputs": [
    {
     "data": {
      "text/html": [
       "<div>\n",
       "<style scoped>\n",
       "    .dataframe tbody tr th:only-of-type {\n",
       "        vertical-align: middle;\n",
       "    }\n",
       "\n",
       "    .dataframe tbody tr th {\n",
       "        vertical-align: top;\n",
       "    }\n",
       "\n",
       "    .dataframe thead th {\n",
       "        text-align: right;\n",
       "    }\n",
       "</style>\n",
       "<table border=\"1\" class=\"dataframe\">\n",
       "  <thead>\n",
       "    <tr style=\"text-align: right;\">\n",
       "      <th></th>\n",
       "      <th>0</th>\n",
       "      <th>1</th>\n",
       "      <th>2</th>\n",
       "      <th>3</th>\n",
       "      <th>4</th>\n",
       "      <th>5</th>\n",
       "      <th>6</th>\n",
       "      <th>7</th>\n",
       "      <th>8</th>\n",
       "      <th>9</th>\n",
       "      <th>...</th>\n",
       "      <th>28</th>\n",
       "      <th>29</th>\n",
       "      <th>30</th>\n",
       "      <th>31</th>\n",
       "      <th>32</th>\n",
       "      <th>33</th>\n",
       "      <th>34</th>\n",
       "      <th>35</th>\n",
       "      <th>36</th>\n",
       "      <th>37</th>\n",
       "    </tr>\n",
       "  </thead>\n",
       "  <tbody>\n",
       "    <tr>\n",
       "      <th>0</th>\n",
       "      <td>44101.0</td>\n",
       "      <td>1.5</td>\n",
       "      <td>7.8</td>\n",
       "      <td>133.0</td>\n",
       "      <td>407.0</td>\n",
       "      <td>166.0</td>\n",
       "      <td>66.3</td>\n",
       "      <td>4.5</td>\n",
       "      <td>2110.0</td>\n",
       "      <td>7.9</td>\n",
       "      <td>...</td>\n",
       "      <td>2000.0</td>\n",
       "      <td>36.9</td>\n",
       "      <td>58.8</td>\n",
       "      <td>95.5</td>\n",
       "      <td>85.5</td>\n",
       "      <td>70.0</td>\n",
       "      <td>90.3</td>\n",
       "      <td>79.4</td>\n",
       "      <td>87.3</td>\n",
       "      <td>99.6</td>\n",
       "    </tr>\n",
       "    <tr>\n",
       "      <th>4</th>\n",
       "      <td>36924.0</td>\n",
       "      <td>1.5</td>\n",
       "      <td>8.0</td>\n",
       "      <td>242.0</td>\n",
       "      <td>496.0</td>\n",
       "      <td>176.0</td>\n",
       "      <td>64.8</td>\n",
       "      <td>4.0</td>\n",
       "      <td>2110.0</td>\n",
       "      <td>7.9</td>\n",
       "      <td>...</td>\n",
       "      <td>2120.0</td>\n",
       "      <td>36.9</td>\n",
       "      <td>62.7</td>\n",
       "      <td>95.6</td>\n",
       "      <td>85.5</td>\n",
       "      <td>71.0</td>\n",
       "      <td>92.1</td>\n",
       "      <td>78.2</td>\n",
       "      <td>87.5</td>\n",
       "      <td>99.5</td>\n",
       "    </tr>\n",
       "    <tr>\n",
       "      <th>5</th>\n",
       "      <td>38572.0</td>\n",
       "      <td>3.0</td>\n",
       "      <td>7.8</td>\n",
       "      <td>202.0</td>\n",
       "      <td>372.0</td>\n",
       "      <td>186.0</td>\n",
       "      <td>68.8</td>\n",
       "      <td>4.5</td>\n",
       "      <td>1644.0</td>\n",
       "      <td>7.8</td>\n",
       "      <td>...</td>\n",
       "      <td>1764.0</td>\n",
       "      <td>36.9</td>\n",
       "      <td>59.7</td>\n",
       "      <td>96.5</td>\n",
       "      <td>86.7</td>\n",
       "      <td>78.3</td>\n",
       "      <td>90.1</td>\n",
       "      <td>73.1</td>\n",
       "      <td>84.9</td>\n",
       "      <td>100.0</td>\n",
       "    </tr>\n",
       "    <tr>\n",
       "      <th>6</th>\n",
       "      <td>41115.0</td>\n",
       "      <td>6.0</td>\n",
       "      <td>7.8</td>\n",
       "      <td>133.0</td>\n",
       "      <td>552.0</td>\n",
       "      <td>262.0</td>\n",
       "      <td>64.1</td>\n",
       "      <td>5.0</td>\n",
       "      <td>1603.0</td>\n",
       "      <td>7.8</td>\n",
       "      <td>...</td>\n",
       "      <td>1703.0</td>\n",
       "      <td>36.9</td>\n",
       "      <td>61.9</td>\n",
       "      <td>93.8</td>\n",
       "      <td>89.1</td>\n",
       "      <td>79.8</td>\n",
       "      <td>90.3</td>\n",
       "      <td>86.2</td>\n",
       "      <td>90.1</td>\n",
       "      <td>99.0</td>\n",
       "    </tr>\n",
       "    <tr>\n",
       "      <th>8</th>\n",
       "      <td>29156.0</td>\n",
       "      <td>2.5</td>\n",
       "      <td>7.7</td>\n",
       "      <td>206.0</td>\n",
       "      <td>451.0</td>\n",
       "      <td>194.0</td>\n",
       "      <td>69.1</td>\n",
       "      <td>4.5</td>\n",
       "      <td>1249.0</td>\n",
       "      <td>7.7</td>\n",
       "      <td>...</td>\n",
       "      <td>1338.0</td>\n",
       "      <td>46.1</td>\n",
       "      <td>43.6</td>\n",
       "      <td>92.5</td>\n",
       "      <td>85.6</td>\n",
       "      <td>58.2</td>\n",
       "      <td>92.2</td>\n",
       "      <td>73.8</td>\n",
       "      <td>90.2</td>\n",
       "      <td>99.4</td>\n",
       "    </tr>\n",
       "  </tbody>\n",
       "</table>\n",
       "<p>5 rows × 38 columns</p>\n",
       "</div>"
      ],
      "text/plain": [
       "        0    1    2      3      4      5     6    7       8    9   ...    \\\n",
       "0  44101.0  1.5  7.8  133.0  407.0  166.0  66.3  4.5  2110.0  7.9  ...     \n",
       "4  36924.0  1.5  8.0  242.0  496.0  176.0  64.8  4.0  2110.0  7.9  ...     \n",
       "5  38572.0  3.0  7.8  202.0  372.0  186.0  68.8  4.5  1644.0  7.8  ...     \n",
       "6  41115.0  6.0  7.8  133.0  552.0  262.0  64.1  5.0  1603.0  7.8  ...     \n",
       "8  29156.0  2.5  7.7  206.0  451.0  194.0  69.1  4.5  1249.0  7.7  ...     \n",
       "\n",
       "       28    29    30    31    32    33    34    35    36     37  \n",
       "0  2000.0  36.9  58.8  95.5  85.5  70.0  90.3  79.4  87.3   99.6  \n",
       "4  2120.0  36.9  62.7  95.6  85.5  71.0  92.1  78.2  87.5   99.5  \n",
       "5  1764.0  36.9  59.7  96.5  86.7  78.3  90.1  73.1  84.9  100.0  \n",
       "6  1703.0  36.9  61.9  93.8  89.1  79.8  90.3  86.2  90.1   99.0  \n",
       "8  1338.0  46.1  43.6  92.5  85.6  58.2  92.2  73.8  90.2   99.4  \n",
       "\n",
       "[5 rows x 38 columns]"
      ]
     },
     "execution_count": 284,
     "metadata": {},
     "output_type": "execute_result"
    }
   ],
   "source": [
    "#outlier detecion with IQR \n",
    "data = data[~((data < (Q1 - 1.5 * IQR)) |(data > (Q3 + 1.5 * IQR))).any(axis=1)]\n",
    "data.head()"
   ]
  },
  {
   "cell_type": "code",
   "execution_count": 285,
   "metadata": {},
   "outputs": [
    {
     "data": {
      "image/png": "[encoded data removed]",
      "text/plain": [
       "<Figure size 576x576 with 1 Axes>"
      ]
     },
     "metadata": {
      "needs_background": "light"
     },
     "output_type": "display_data"
    }
   ],
   "source": [
    "import numpy as np\n",
    "import matplotlib.pyplot as plt\n",
    "%matplotlib inline \n",
    "\n",
    "plt.figure(figsize=[8,8])\n",
    "plt.boxplot([data[32],data[33], data[34]])\n",
    "plt.show()"
   ]
  },
  {
   "cell_type": "markdown",
   "metadata": {},
   "source": [
    "## Kolonlar arasında bir ilişki var mı? (Feature Selection)"
   ]
  },
  {
   "cell_type": "code",
   "execution_count": 286,
   "metadata": {},
   "outputs": [],
   "source": [
    "import seaborn as sns\n",
    "correlations = data.corr()"
   ]
  },
  {
   "cell_type": "code",
   "execution_count": 287,
   "metadata": {},
   "outputs": [
    {
     "data": {
      "image/png": "[encoded data removed]",
      "text/plain": [
       "<Figure size 864x576 with 2 Axes>"
      ]
     },
     "metadata": {
      "needs_background": "light"
     },
     "output_type": "display_data"
    }
   ],
   "source": [
    "plt.subplots(figsize=(12,8))\n",
    "mask = np.zeros_like(correlations)\n",
    "mask[np.triu_indices_from(mask)] = True\n",
    "sns.heatmap(correlations, xticklabels=data.columns, yticklabels=data.columns, mask=mask, linewidths=2)\n",
    "plt.show()"
   ]
  },
  {
   "cell_type": "code",
   "execution_count": 288,
   "metadata": {},
   "outputs": [
    {
     "data": {
      "text/plain": [
       "<matplotlib.collections.PathCollection at 0x1fc8930e7b8>"
      ]
     },
     "execution_count": 288,
     "metadata": {},
     "output_type": "execute_result"
    },
    {
     "data": {
      "image/png": "[encoded data removed]",
      "text/plain": [
       "<Figure size 432x288 with 1 Axes>"
      ]
     },
     "metadata": {
      "needs_background": "light"
     },
     "output_type": "display_data"
    }
   ],
   "source": [
    "plt.scatter(data[27], data[37])"
   ]
  },
  {
   "cell_type": "code",
   "execution_count": 289,
   "metadata": {},
   "outputs": [
    {
     "data": {
      "text/plain": [
       "<matplotlib.collections.PathCollection at 0x1fc87381cf8>"
      ]
     },
     "execution_count": 289,
     "metadata": {},
     "output_type": "execute_result"
    },
    {
     "data": {
      "image/png": "[encoded data removed]",
      "text/plain": [
       "<Figure size 432x288 with 1 Axes>"
      ]
     },
     "metadata": {
      "needs_background": "light"
     },
     "output_type": "display_data"
    }
   ],
   "source": [
    "plt.scatter(data[24], data[35])"
   ]
  },
  {
   "cell_type": "code",
   "execution_count": 290,
   "metadata": {},
   "outputs": [
    {
     "data": {
      "text/plain": [
       "<matplotlib.collections.PathCollection at 0x1fc873de6a0>"
      ]
     },
     "execution_count": 290,
     "metadata": {},
     "output_type": "execute_result"
    },
    {
     "data": {
      "image/png": "[encoded data removed]",
      "text/plain": [
       "<Figure size 432x288 with 1 Axes>"
      ]
     },
     "metadata": {
      "needs_background": "light"
     },
     "output_type": "display_data"
    }
   ],
   "source": [
    "plt.scatter(data[21], data[28])"
   ]
  },
  {
   "cell_type": "code",
   "execution_count": 291,
   "metadata": {},
   "outputs": [
    {
     "data": {
      "text/plain": [
       "<matplotlib.collections.PathCollection at 0x1fc88c55160>"
      ]
     },
     "execution_count": 291,
     "metadata": {},
     "output_type": "execute_result"
    },
    {
     "data": {
      "image/png": "[encoded data removed]",
      "text/plain": [
       "<Figure size 432x288 with 1 Axes>"
      ]
     },
     "metadata": {
      "needs_background": "light"
     },
     "output_type": "display_data"
    }
   ],
   "source": [
    "plt.scatter(data[21], data[14])"
   ]
  },
  {
   "cell_type": "code",
   "execution_count": 292,
   "metadata": {},
   "outputs": [
    {
     "data": {
      "text/plain": [
       "<matplotlib.collections.PathCollection at 0x1fc88cb0f98>"
      ]
     },
     "execution_count": 292,
     "metadata": {},
     "output_type": "execute_result"
    },
    {
     "data": {
      "image/png": "[encoded data removed]",
      "text/plain": [
       "<Figure size 432x288 with 1 Axes>"
      ]
     },
     "metadata": {
      "needs_background": "light"
     },
     "output_type": "display_data"
    }
   ],
   "source": [
    "plt.scatter(data[14], data[8])"
   ]
  },
  {
   "cell_type": "code",
   "execution_count": 293,
   "metadata": {},
   "outputs": [
    {
     "data": {
      "text/plain": [
       "<matplotlib.collections.PathCollection at 0x1fc88d1b3c8>"
      ]
     },
     "execution_count": 293,
     "metadata": {},
     "output_type": "execute_result"
    },
    {
     "data": {
      "image/png": "[encoded data removed]",
      "text/plain": [
       "<Figure size 432x288 with 1 Axes>"
      ]
     },
     "metadata": {
      "needs_background": "light"
     },
     "output_type": "display_data"
    }
   ],
   "source": [
    "plt.scatter(data[21], data[8])"
   ]
  },
  {
   "cell_type": "code",
   "execution_count": 294,
   "metadata": {},
   "outputs": [
    {
     "data": {
      "text/html": [
       "<div>\n",
       "<style scoped>\n",
       "    .dataframe tbody tr th:only-of-type {\n",
       "        vertical-align: middle;\n",
       "    }\n",
       "\n",
       "    .dataframe tbody tr th {\n",
       "        vertical-align: top;\n",
       "    }\n",
       "\n",
       "    .dataframe thead th {\n",
       "        text-align: right;\n",
       "    }\n",
       "</style>\n",
       "<table border=\"1\" class=\"dataframe\">\n",
       "  <thead>\n",
       "    <tr style=\"text-align: right;\">\n",
       "      <th></th>\n",
       "      <th>0</th>\n",
       "      <th>1</th>\n",
       "      <th>2</th>\n",
       "      <th>3</th>\n",
       "      <th>4</th>\n",
       "      <th>5</th>\n",
       "      <th>6</th>\n",
       "      <th>7</th>\n",
       "      <th>8</th>\n",
       "      <th>9</th>\n",
       "      <th>...</th>\n",
       "      <th>27</th>\n",
       "      <th>29</th>\n",
       "      <th>30</th>\n",
       "      <th>31</th>\n",
       "      <th>32</th>\n",
       "      <th>33</th>\n",
       "      <th>34</th>\n",
       "      <th>35</th>\n",
       "      <th>36</th>\n",
       "      <th>37</th>\n",
       "    </tr>\n",
       "  </thead>\n",
       "  <tbody>\n",
       "    <tr>\n",
       "      <th>0</th>\n",
       "      <td>44101.0</td>\n",
       "      <td>1.5</td>\n",
       "      <td>7.8</td>\n",
       "      <td>133.0</td>\n",
       "      <td>407.0</td>\n",
       "      <td>166.0</td>\n",
       "      <td>66.3</td>\n",
       "      <td>4.5</td>\n",
       "      <td>2110.0</td>\n",
       "      <td>7.9</td>\n",
       "      <td>...</td>\n",
       "      <td>0.02</td>\n",
       "      <td>36.9</td>\n",
       "      <td>58.8</td>\n",
       "      <td>95.5</td>\n",
       "      <td>85.5</td>\n",
       "      <td>70.0</td>\n",
       "      <td>90.3</td>\n",
       "      <td>79.4</td>\n",
       "      <td>87.3</td>\n",
       "      <td>99.6</td>\n",
       "    </tr>\n",
       "    <tr>\n",
       "      <th>4</th>\n",
       "      <td>36924.0</td>\n",
       "      <td>1.5</td>\n",
       "      <td>8.0</td>\n",
       "      <td>242.0</td>\n",
       "      <td>496.0</td>\n",
       "      <td>176.0</td>\n",
       "      <td>64.8</td>\n",
       "      <td>4.0</td>\n",
       "      <td>2110.0</td>\n",
       "      <td>7.9</td>\n",
       "      <td>...</td>\n",
       "      <td>0.02</td>\n",
       "      <td>36.9</td>\n",
       "      <td>62.7</td>\n",
       "      <td>95.6</td>\n",
       "      <td>85.5</td>\n",
       "      <td>71.0</td>\n",
       "      <td>92.1</td>\n",
       "      <td>78.2</td>\n",
       "      <td>87.5</td>\n",
       "      <td>99.5</td>\n",
       "    </tr>\n",
       "    <tr>\n",
       "      <th>5</th>\n",
       "      <td>38572.0</td>\n",
       "      <td>3.0</td>\n",
       "      <td>7.8</td>\n",
       "      <td>202.0</td>\n",
       "      <td>372.0</td>\n",
       "      <td>186.0</td>\n",
       "      <td>68.8</td>\n",
       "      <td>4.5</td>\n",
       "      <td>1644.0</td>\n",
       "      <td>7.8</td>\n",
       "      <td>...</td>\n",
       "      <td>0.00</td>\n",
       "      <td>36.9</td>\n",
       "      <td>59.7</td>\n",
       "      <td>96.5</td>\n",
       "      <td>86.7</td>\n",
       "      <td>78.3</td>\n",
       "      <td>90.1</td>\n",
       "      <td>73.1</td>\n",
       "      <td>84.9</td>\n",
       "      <td>100.0</td>\n",
       "    </tr>\n",
       "    <tr>\n",
       "      <th>6</th>\n",
       "      <td>41115.0</td>\n",
       "      <td>6.0</td>\n",
       "      <td>7.8</td>\n",
       "      <td>133.0</td>\n",
       "      <td>552.0</td>\n",
       "      <td>262.0</td>\n",
       "      <td>64.1</td>\n",
       "      <td>5.0</td>\n",
       "      <td>1603.0</td>\n",
       "      <td>7.8</td>\n",
       "      <td>...</td>\n",
       "      <td>0.05</td>\n",
       "      <td>36.9</td>\n",
       "      <td>61.9</td>\n",
       "      <td>93.8</td>\n",
       "      <td>89.1</td>\n",
       "      <td>79.8</td>\n",
       "      <td>90.3</td>\n",
       "      <td>86.2</td>\n",
       "      <td>90.1</td>\n",
       "      <td>99.0</td>\n",
       "    </tr>\n",
       "    <tr>\n",
       "      <th>8</th>\n",
       "      <td>29156.0</td>\n",
       "      <td>2.5</td>\n",
       "      <td>7.7</td>\n",
       "      <td>206.0</td>\n",
       "      <td>451.0</td>\n",
       "      <td>194.0</td>\n",
       "      <td>69.1</td>\n",
       "      <td>4.5</td>\n",
       "      <td>1249.0</td>\n",
       "      <td>7.7</td>\n",
       "      <td>...</td>\n",
       "      <td>0.03</td>\n",
       "      <td>46.1</td>\n",
       "      <td>43.6</td>\n",
       "      <td>92.5</td>\n",
       "      <td>85.6</td>\n",
       "      <td>58.2</td>\n",
       "      <td>92.2</td>\n",
       "      <td>73.8</td>\n",
       "      <td>90.2</td>\n",
       "      <td>99.4</td>\n",
       "    </tr>\n",
       "  </tbody>\n",
       "</table>\n",
       "<p>5 rows × 34 columns</p>\n",
       "</div>"
      ],
      "text/plain": [
       "        0    1    2      3      4      5     6    7       8    9   ...    \\\n",
       "0  44101.0  1.5  7.8  133.0  407.0  166.0  66.3  4.5  2110.0  7.9  ...     \n",
       "4  36924.0  1.5  8.0  242.0  496.0  176.0  64.8  4.0  2110.0  7.9  ...     \n",
       "5  38572.0  3.0  7.8  202.0  372.0  186.0  68.8  4.5  1644.0  7.8  ...     \n",
       "6  41115.0  6.0  7.8  133.0  552.0  262.0  64.1  5.0  1603.0  7.8  ...     \n",
       "8  29156.0  2.5  7.7  206.0  451.0  194.0  69.1  4.5  1249.0  7.7  ...     \n",
       "\n",
       "     27    29    30    31    32    33    34    35    36     37  \n",
       "0  0.02  36.9  58.8  95.5  85.5  70.0  90.3  79.4  87.3   99.6  \n",
       "4  0.02  36.9  62.7  95.6  85.5  71.0  92.1  78.2  87.5   99.5  \n",
       "5  0.00  36.9  59.7  96.5  86.7  78.3  90.1  73.1  84.9  100.0  \n",
       "6  0.05  36.9  61.9  93.8  89.1  79.8  90.3  86.2  90.1   99.0  \n",
       "8  0.03  46.1  43.6  92.5  85.6  58.2  92.2  73.8  90.2   99.4  \n",
       "\n",
       "[5 rows x 34 columns]"
      ]
     },
     "execution_count": 294,
     "metadata": {},
     "output_type": "execute_result"
    }
   ],
   "source": [
    "#birbiriyle ilişkli olan kolonlardan bir tanesi silinir.\n",
    "data = data.drop([24,21,28,14], axis=1)\n",
    "data.head()"
   ]
  },
  {
   "cell_type": "markdown",
   "metadata": {},
   "source": [
    "## Feature Extraction"
   ]
  },
  {
   "cell_type": "code",
   "execution_count": 295,
   "metadata": {},
   "outputs": [
    {
     "data": {
      "text/plain": [
       "PCA(copy=True, iterated_power='auto', n_components=2, random_state=None,\n",
       "  svd_solver='auto', tol=0.0, whiten=False)"
      ]
     },
     "execution_count": 295,
     "metadata": {},
     "output_type": "execute_result"
    }
   ],
   "source": [
    "from sklearn.decomposition import PCA\n",
    "from sklearn.preprocessing import StandardScaler\n",
    "X_normalized = StandardScaler().fit(data).transform(data)\n",
    "pca = PCA(n_components=2)\n",
    "pca.fit(X_normalized)"
   ]
  },
  {
   "cell_type": "code",
   "execution_count": 296,
   "metadata": {},
   "outputs": [],
   "source": [
    "data_2d = pca.transform(X_normalized)"
   ]
  },
  {
   "cell_type": "code",
   "execution_count": 297,
   "metadata": {},
   "outputs": [
    {
     "data": {
      "text/plain": [
       "Int64Index([  0,   4,   5,   6,   8,  19,  21,  22,  23,  24,\n",
       "            ...\n",
       "            515, 516, 517, 518, 519, 520, 523, 524, 525, 526],\n",
       "           dtype='int64', length=255)"
      ]
     },
     "execution_count": 297,
     "metadata": {},
     "output_type": "execute_result"
    }
   ],
   "source": [
    "data.index"
   ]
  },
  {
   "cell_type": "code",
   "execution_count": 298,
   "metadata": {},
   "outputs": [
    {
     "data": {
      "text/html": [
       "<div>\n",
       "<style scoped>\n",
       "    .dataframe tbody tr th:only-of-type {\n",
       "        vertical-align: middle;\n",
       "    }\n",
       "\n",
       "    .dataframe tbody tr th {\n",
       "        vertical-align: top;\n",
       "    }\n",
       "\n",
       "    .dataframe thead th {\n",
       "        text-align: right;\n",
       "    }\n",
       "</style>\n",
       "<table border=\"1\" class=\"dataframe\">\n",
       "  <thead>\n",
       "    <tr style=\"text-align: right;\">\n",
       "      <th></th>\n",
       "      <th>PC1</th>\n",
       "      <th>PC2</th>\n",
       "    </tr>\n",
       "  </thead>\n",
       "  <tbody>\n",
       "    <tr>\n",
       "      <th>0</th>\n",
       "      <td>0.035940</td>\n",
       "      <td>0.045315</td>\n",
       "    </tr>\n",
       "    <tr>\n",
       "      <th>4</th>\n",
       "      <td>0.981939</td>\n",
       "      <td>-0.790905</td>\n",
       "    </tr>\n",
       "    <tr>\n",
       "      <th>5</th>\n",
       "      <td>2.256443</td>\n",
       "      <td>-0.676873</td>\n",
       "    </tr>\n",
       "    <tr>\n",
       "      <th>6</th>\n",
       "      <td>3.624268</td>\n",
       "      <td>-1.535921</td>\n",
       "    </tr>\n",
       "    <tr>\n",
       "      <th>8</th>\n",
       "      <td>0.179718</td>\n",
       "      <td>-0.185143</td>\n",
       "    </tr>\n",
       "  </tbody>\n",
       "</table>\n",
       "</div>"
      ],
      "text/plain": [
       "        PC1       PC2\n",
       "0  0.035940  0.045315\n",
       "4  0.981939 -0.790905\n",
       "5  2.256443 -0.676873\n",
       "6  3.624268 -1.535921\n",
       "8  0.179718 -0.185143"
      ]
     },
     "execution_count": 298,
     "metadata": {},
     "output_type": "execute_result"
    }
   ],
   "source": [
    "data_2d = pd.DataFrame(data_2d)\n",
    "data_2d.index = data.index\n",
    "data_2d.columns = ['PC1','PC2']\n",
    "data_2d.head()"
   ]
  },
  {
   "cell_type": "markdown",
   "metadata": {},
   "source": [
    "# K_means"
   ]
  },
  {
   "cell_type": "code",
   "execution_count": 241,
   "metadata": {},
   "outputs": [
    {
     "data": {
      "image/png": "[encoded data removed]",
      "text/plain": [
       "<Figure size 432x288 with 1 Axes>"
      ]
     },
     "metadata": {
      "needs_background": "light"
     },
     "output_type": "display_data"
    }
   ],
   "source": [
    "import pylab as pl\n",
    "pl.scatter(data_2d.iloc[:,0],data_2d.iloc[:,1],c='black')\n",
    "pl.show()"
   ]
  },
  {
   "cell_type": "code",
   "execution_count": 314,
   "metadata": {},
   "outputs": [
    {
     "data": {
      "image/png": "[encoded data removed]",
      "text/plain": [
       "<Figure size 432x288 with 1 Axes>"
      ]
     },
     "metadata": {
      "needs_background": "light"
     },
     "output_type": "display_data"
    }
   ],
   "source": [
    "from sklearn.decomposition import PCA\n",
    "from sklearn.cluster import KMeans, SpectralClustering\n",
    "\n",
    "import pylab as pl\n",
    "\n",
    "kmeans = KMeans(n_clusters=4, random_state=42)\n",
    "\n",
    "kmeans.fit(data_2d)\n",
    "\n",
    "pl.figure('K-means with 3 clusters')\n",
    "\n",
    "pl.scatter(data_2d.iloc[:, 0], data_2d.iloc[:, 1], c=kmeans.labels_)\n",
    "\n",
    "\n",
    "plt.show()"
   ]
  },
  {
   "cell_type": "code",
   "execution_count": 248,
   "metadata": {},
   "outputs": [
    {
     "data": {
      "text/plain": [
       "255"
      ]
     },
     "execution_count": 248,
     "metadata": {},
     "output_type": "execute_result"
    }
   ],
   "source": [
    "len(data_2d)"
   ]
  },
  {
   "cell_type": "code",
   "execution_count": 322,
   "metadata": {},
   "outputs": [
    {
     "data": {
      "image/png": "[encoded data removed]",
      "text/plain": [
       "<Figure size 432x288 with 1 Axes>"
      ]
     },
     "metadata": {
      "needs_background": "light"
     },
     "output_type": "display_data"
    }
   ],
   "source": [
    "kmeans_iter1 = KMeans(n_clusters=5, init=\"random\", n_init=1,\n",
    "                     algorithm=\"full\", max_iter=1, random_state=42)\n",
    "kmeans_iter1.fit(data_2d)\n",
    "\n",
    "\n",
    "\n",
    "plt.scatter(data_2d.iloc[:, 0], data_2d.iloc[:, 1], c=kmeans_iter1.labels_)\n",
    "plt.title( ' K-means with max iter 1 ')\n",
    "\n",
    "plt.show()"
   ]
  },
  {
   "cell_type": "code",
   "execution_count": 323,
   "metadata": {},
   "outputs": [
    {
     "data": {
      "image/png": "[encoded data removed]",
      "text/plain": [
       "<Figure size 432x288 with 1 Axes>"
      ]
     },
     "metadata": {
      "needs_background": "light"
     },
     "output_type": "display_data"
    }
   ],
   "source": [
    "kmeans_iter2 = KMeans(n_clusters=5, init=\"random\", n_init=1,\n",
    "                     algorithm=\"full\", max_iter=2, random_state=42)\n",
    "kmeans_iter2.fit(data_2d)\n",
    "\n",
    "plt.figure('K-means with 5 clusters')\n",
    "\n",
    "plt.scatter(data_2d.iloc[:, 0], data_2d.iloc[:, 1], c=kmeans_iter2.labels_)\n",
    "plt.title( ' K-means with max iter 2 ')\n",
    "\n",
    "plt.show()"
   ]
  },
  {
   "cell_type": "code",
   "execution_count": 324,
   "metadata": {},
   "outputs": [
    {
     "data": {
      "image/png": "[encoded data removed]",
      "text/plain": [
       "<Figure size 432x288 with 1 Axes>"
      ]
     },
     "metadata": {
      "needs_background": "light"
     },
     "output_type": "display_data"
    }
   ],
   "source": [
    "kmeans_iter3 = KMeans(n_clusters=5, init=\"random\", n_init=1,\n",
    "                     algorithm=\"full\", max_iter=3, random_state=42)\n",
    "kmeans_iter3.fit(data_2d)\n",
    "\n",
    "plt.figure('K-means with 5 clusters')\n",
    "\n",
    "plt.scatter(data_2d.iloc[:, 0], data_2d.iloc[:, 1], c=kmeans_iter3.labels_)\n",
    "plt.title( ' K-means with max iter 3 ')\n",
    "\n",
    "plt.show()"
   ]
  },
  {
   "cell_type": "code",
   "execution_count": 326,
   "metadata": {},
   "outputs": [
    {
     "data": {
      "image/png": "[encoded data removed]",
      "text/plain": [
       "<Figure size 432x288 with 1 Axes>"
      ]
     },
     "metadata": {
      "needs_background": "light"
     },
     "output_type": "display_data"
    }
   ],
   "source": [
    "kmeans_rnd_init1 = KMeans(n_clusters=5, init=\"random\", n_init=1,\n",
    "                         algorithm=\"full\", random_state=11)\n",
    "kmeans_rnd_init1 .fit(data_2d)\n",
    "plt.figure('K-means with 5 clusters')\n",
    "plt.title('K-means with  random_state 11')\n",
    "plt.scatter(data_2d.iloc[:, 0], data_2d.iloc[:, 1], c=kmeans_rnd_init1 .labels_)\n",
    "plt.show()"
   ]
  },
  {
   "cell_type": "code",
   "execution_count": 327,
   "metadata": {},
   "outputs": [
    {
     "data": {
      "image/png": "[encoded data removed]",
      "text/plain": [
       "<Figure size 432x288 with 1 Axes>"
      ]
     },
     "metadata": {
      "needs_background": "light"
     },
     "output_type": "display_data"
    }
   ],
   "source": [
    "kmeans_rnd_init2 = KMeans(n_clusters=5, init=\"random\", n_init=1,algorithm=\"full\", random_state=19)\n",
    "kmeans_rnd_init2 .fit(data_2d)\n",
    "plt.figure('K-means with 5 clusters')\n",
    "plt.title('K-means with  random_state 19')\n",
    "plt.scatter(data_2d.iloc[:, 0], data_2d.iloc[:, 1], c=kmeans_rnd_init2 .labels_)\n",
    "plt.show()"
   ]
  },
  {
   "cell_type": "code",
   "execution_count": 328,
   "metadata": {},
   "outputs": [],
   "source": [
    "from sklearn.metrics import silhouette_samples, silhouette_score"
   ]
  },
  {
   "cell_type": "code",
   "execution_count": 329,
   "metadata": {},
   "outputs": [
    {
     "data": {
      "text/plain": [
       "0.3503165400929558"
      ]
     },
     "execution_count": 329,
     "metadata": {},
     "output_type": "execute_result"
    }
   ],
   "source": [
    "silhouette_score(data_2d,kmeans_rnd_init2 .labels_)"
   ]
  },
  {
   "cell_type": "code",
   "execution_count": 343,
   "metadata": {},
   "outputs": [],
   "source": [
    "range_n_clusters = list (range(2,10))"
   ]
  },
  {
   "cell_type": "code",
   "execution_count": 344,
   "metadata": {},
   "outputs": [
    {
     "name": "stdout",
     "output_type": "stream",
     "text": [
      "For n_clusters = 2 The average silhouette_score is : 0.36507214592786325\n",
      "For n_clusters = 3 The average silhouette_score is : 0.3641426381349332\n",
      "For n_clusters = 4 The average silhouette_score is : 0.34122850993583276\n",
      "For n_clusters = 5 The average silhouette_score is : 0.3482102139036135\n",
      "For n_clusters = 6 The average silhouette_score is : 0.36284236487847216\n",
      "For n_clusters = 7 The average silhouette_score is : 0.36327674574254926\n",
      "For n_clusters = 8 The average silhouette_score is : 0.34316569604710623\n",
      "For n_clusters = 9 The average silhouette_score is : 0.35097285189785066\n"
     ]
    }
   ],
   "source": [
    "for n_clusters in range_n_clusters:\n",
    "    \n",
    "    clusterer = KMeans(n_clusters=n_clusters, random_state=10)\n",
    "    cluster_labels = clusterer.fit_predict(data_2d)\n",
    "\n",
    "    # The silhouette_score gives the average value for all the samples.\n",
    "    # This gives a perspective into the density and separation of the formed\n",
    "    # clusters\n",
    "    silhouette_avg = silhouette_score(data_2d, cluster_labels)\n",
    "    print(\"For n_clusters =\", n_clusters,\n",
    "          \"The average silhouette_score is :\", silhouette_avg)"
   ]
  },
  {
   "cell_type": "code",
   "execution_count": 348,
   "metadata": {},
   "outputs": [
    {
     "ename": "ValueError",
     "evalue": "x and y must have same first dimension, but have shapes (2,) and (1,)",
     "output_type": "error",
     "traceback": [
      "\u001b[1;31m---------------------------------------------------------------------------\u001b[0m",
      "\u001b[1;31mValueError\u001b[0m                                Traceback (most recent call last)",
      "\u001b[1;32m<ipython-input-348-3692db2a0e42>\u001b[0m in \u001b[0;36m<module>\u001b[1;34m\u001b[0m\n\u001b[0;32m      1\u001b[0m \u001b[0mplt\u001b[0m\u001b[1;33m.\u001b[0m\u001b[0mfigure\u001b[0m\u001b[1;33m(\u001b[0m\u001b[0mfigsize\u001b[0m\u001b[1;33m=\u001b[0m\u001b[1;33m(\u001b[0m\u001b[1;36m8\u001b[0m\u001b[1;33m,\u001b[0m\u001b[1;36m3\u001b[0m\u001b[1;33m)\u001b[0m\u001b[1;33m)\u001b[0m\u001b[1;33m\u001b[0m\u001b[1;33m\u001b[0m\u001b[0m\n\u001b[1;32m----> 2\u001b[1;33m \u001b[0mplt\u001b[0m\u001b[1;33m.\u001b[0m\u001b[0mplot\u001b[0m\u001b[1;33m(\u001b[0m\u001b[0mrange\u001b[0m\u001b[1;33m(\u001b[0m\u001b[1;36m8\u001b[0m\u001b[1;33m,\u001b[0m\u001b[1;36m10\u001b[0m\u001b[1;33m)\u001b[0m\u001b[1;33m,\u001b[0m\u001b[0msilhouette_score\u001b[0m\u001b[1;33m,\u001b[0m\u001b[1;34m\"bo-\"\u001b[0m\u001b[1;33m)\u001b[0m\u001b[1;33m\u001b[0m\u001b[1;33m\u001b[0m\u001b[0m\n\u001b[0m\u001b[0;32m      3\u001b[0m \u001b[1;33m\u001b[0m\u001b[0m\n\u001b[0;32m      4\u001b[0m \u001b[0mplt\u001b[0m\u001b[1;33m.\u001b[0m\u001b[0mtitle\u001b[0m\u001b[1;33m(\u001b[0m\u001b[1;34m'K-means with  random_state 11'\u001b[0m\u001b[1;33m)\u001b[0m\u001b[1;33m\u001b[0m\u001b[1;33m\u001b[0m\u001b[0m\n\u001b[0;32m      5\u001b[0m \u001b[1;33m\u001b[0m\u001b[0m\n",
      "\u001b[1;32m~\\Anaconda3\\lib\\site-packages\\matplotlib\\pyplot.py\u001b[0m in \u001b[0;36mplot\u001b[1;34m(scalex, scaley, data, *args, **kwargs)\u001b[0m\n\u001b[0;32m   2811\u001b[0m     return gca().plot(\n\u001b[0;32m   2812\u001b[0m         *args, scalex=scalex, scaley=scaley, **({\"data\": data} if data\n\u001b[1;32m-> 2813\u001b[1;33m         is not None else {}), **kwargs)\n\u001b[0m\u001b[0;32m   2814\u001b[0m \u001b[1;33m\u001b[0m\u001b[0m\n\u001b[0;32m   2815\u001b[0m \u001b[1;33m\u001b[0m\u001b[0m\n",
      "\u001b[1;32m~\\Anaconda3\\lib\\site-packages\\matplotlib\\__init__.py\u001b[0m in \u001b[0;36minner\u001b[1;34m(ax, data, *args, **kwargs)\u001b[0m\n\u001b[0;32m   1808\u001b[0m                         \u001b[1;34m\"the Matplotlib list!)\"\u001b[0m \u001b[1;33m%\u001b[0m \u001b[1;33m(\u001b[0m\u001b[0mlabel_namer\u001b[0m\u001b[1;33m,\u001b[0m \u001b[0mfunc\u001b[0m\u001b[1;33m.\u001b[0m\u001b[0m__name__\u001b[0m\u001b[1;33m)\u001b[0m\u001b[1;33m,\u001b[0m\u001b[1;33m\u001b[0m\u001b[1;33m\u001b[0m\u001b[0m\n\u001b[0;32m   1809\u001b[0m                         RuntimeWarning, stacklevel=2)\n\u001b[1;32m-> 1810\u001b[1;33m             \u001b[1;32mreturn\u001b[0m \u001b[0mfunc\u001b[0m\u001b[1;33m(\u001b[0m\u001b[0max\u001b[0m\u001b[1;33m,\u001b[0m \u001b[1;33m*\u001b[0m\u001b[0margs\u001b[0m\u001b[1;33m,\u001b[0m \u001b[1;33m**\u001b[0m\u001b[0mkwargs\u001b[0m\u001b[1;33m)\u001b[0m\u001b[1;33m\u001b[0m\u001b[1;33m\u001b[0m\u001b[0m\n\u001b[0m\u001b[0;32m   1811\u001b[0m \u001b[1;33m\u001b[0m\u001b[0m\n\u001b[0;32m   1812\u001b[0m         inner.__doc__ = _add_data_doc(inner.__doc__,\n",
      "\u001b[1;32m~\\Anaconda3\\lib\\site-packages\\matplotlib\\axes\\_axes.py\u001b[0m in \u001b[0;36mplot\u001b[1;34m(self, scalex, scaley, *args, **kwargs)\u001b[0m\n\u001b[0;32m   1609\u001b[0m         \u001b[0mkwargs\u001b[0m \u001b[1;33m=\u001b[0m \u001b[0mcbook\u001b[0m\u001b[1;33m.\u001b[0m\u001b[0mnormalize_kwargs\u001b[0m\u001b[1;33m(\u001b[0m\u001b[0mkwargs\u001b[0m\u001b[1;33m,\u001b[0m \u001b[0mmlines\u001b[0m\u001b[1;33m.\u001b[0m\u001b[0mLine2D\u001b[0m\u001b[1;33m.\u001b[0m\u001b[0m_alias_map\u001b[0m\u001b[1;33m)\u001b[0m\u001b[1;33m\u001b[0m\u001b[1;33m\u001b[0m\u001b[0m\n\u001b[0;32m   1610\u001b[0m \u001b[1;33m\u001b[0m\u001b[0m\n\u001b[1;32m-> 1611\u001b[1;33m         \u001b[1;32mfor\u001b[0m \u001b[0mline\u001b[0m \u001b[1;32min\u001b[0m \u001b[0mself\u001b[0m\u001b[1;33m.\u001b[0m\u001b[0m_get_lines\u001b[0m\u001b[1;33m(\u001b[0m\u001b[1;33m*\u001b[0m\u001b[0margs\u001b[0m\u001b[1;33m,\u001b[0m \u001b[1;33m**\u001b[0m\u001b[0mkwargs\u001b[0m\u001b[1;33m)\u001b[0m\u001b[1;33m:\u001b[0m\u001b[1;33m\u001b[0m\u001b[1;33m\u001b[0m\u001b[0m\n\u001b[0m\u001b[0;32m   1612\u001b[0m             \u001b[0mself\u001b[0m\u001b[1;33m.\u001b[0m\u001b[0madd_line\u001b[0m\u001b[1;33m(\u001b[0m\u001b[0mline\u001b[0m\u001b[1;33m)\u001b[0m\u001b[1;33m\u001b[0m\u001b[1;33m\u001b[0m\u001b[0m\n\u001b[0;32m   1613\u001b[0m             \u001b[0mlines\u001b[0m\u001b[1;33m.\u001b[0m\u001b[0mappend\u001b[0m\u001b[1;33m(\u001b[0m\u001b[0mline\u001b[0m\u001b[1;33m)\u001b[0m\u001b[1;33m\u001b[0m\u001b[1;33m\u001b[0m\u001b[0m\n",
      "\u001b[1;32m~\\Anaconda3\\lib\\site-packages\\matplotlib\\axes\\_base.py\u001b[0m in \u001b[0;36m_grab_next_args\u001b[1;34m(self, *args, **kwargs)\u001b[0m\n\u001b[0;32m    391\u001b[0m                 \u001b[0mthis\u001b[0m \u001b[1;33m+=\u001b[0m \u001b[0margs\u001b[0m\u001b[1;33m[\u001b[0m\u001b[1;36m0\u001b[0m\u001b[1;33m]\u001b[0m\u001b[1;33m,\u001b[0m\u001b[1;33m\u001b[0m\u001b[1;33m\u001b[0m\u001b[0m\n\u001b[0;32m    392\u001b[0m                 \u001b[0margs\u001b[0m \u001b[1;33m=\u001b[0m \u001b[0margs\u001b[0m\u001b[1;33m[\u001b[0m\u001b[1;36m1\u001b[0m\u001b[1;33m:\u001b[0m\u001b[1;33m]\u001b[0m\u001b[1;33m\u001b[0m\u001b[1;33m\u001b[0m\u001b[0m\n\u001b[1;32m--> 393\u001b[1;33m             \u001b[1;32myield\u001b[0m \u001b[1;32mfrom\u001b[0m \u001b[0mself\u001b[0m\u001b[1;33m.\u001b[0m\u001b[0m_plot_args\u001b[0m\u001b[1;33m(\u001b[0m\u001b[0mthis\u001b[0m\u001b[1;33m,\u001b[0m \u001b[0mkwargs\u001b[0m\u001b[1;33m)\u001b[0m\u001b[1;33m\u001b[0m\u001b[1;33m\u001b[0m\u001b[0m\n\u001b[0m\u001b[0;32m    394\u001b[0m \u001b[1;33m\u001b[0m\u001b[0m\n\u001b[0;32m    395\u001b[0m \u001b[1;33m\u001b[0m\u001b[0m\n",
      "\u001b[1;32m~\\Anaconda3\\lib\\site-packages\\matplotlib\\axes\\_base.py\u001b[0m in \u001b[0;36m_plot_args\u001b[1;34m(self, tup, kwargs)\u001b[0m\n\u001b[0;32m    368\u001b[0m             \u001b[0mx\u001b[0m\u001b[1;33m,\u001b[0m \u001b[0my\u001b[0m \u001b[1;33m=\u001b[0m \u001b[0mindex_of\u001b[0m\u001b[1;33m(\u001b[0m\u001b[0mtup\u001b[0m\u001b[1;33m[\u001b[0m\u001b[1;33m-\u001b[0m\u001b[1;36m1\u001b[0m\u001b[1;33m]\u001b[0m\u001b[1;33m)\u001b[0m\u001b[1;33m\u001b[0m\u001b[1;33m\u001b[0m\u001b[0m\n\u001b[0;32m    369\u001b[0m \u001b[1;33m\u001b[0m\u001b[0m\n\u001b[1;32m--> 370\u001b[1;33m         \u001b[0mx\u001b[0m\u001b[1;33m,\u001b[0m \u001b[0my\u001b[0m \u001b[1;33m=\u001b[0m \u001b[0mself\u001b[0m\u001b[1;33m.\u001b[0m\u001b[0m_xy_from_xy\u001b[0m\u001b[1;33m(\u001b[0m\u001b[0mx\u001b[0m\u001b[1;33m,\u001b[0m \u001b[0my\u001b[0m\u001b[1;33m)\u001b[0m\u001b[1;33m\u001b[0m\u001b[1;33m\u001b[0m\u001b[0m\n\u001b[0m\u001b[0;32m    371\u001b[0m \u001b[1;33m\u001b[0m\u001b[0m\n\u001b[0;32m    372\u001b[0m         \u001b[1;32mif\u001b[0m \u001b[0mself\u001b[0m\u001b[1;33m.\u001b[0m\u001b[0mcommand\u001b[0m \u001b[1;33m==\u001b[0m \u001b[1;34m'plot'\u001b[0m\u001b[1;33m:\u001b[0m\u001b[1;33m\u001b[0m\u001b[1;33m\u001b[0m\u001b[0m\n",
      "\u001b[1;32m~\\Anaconda3\\lib\\site-packages\\matplotlib\\axes\\_base.py\u001b[0m in \u001b[0;36m_xy_from_xy\u001b[1;34m(self, x, y)\u001b[0m\n\u001b[0;32m    229\u001b[0m         \u001b[1;32mif\u001b[0m \u001b[0mx\u001b[0m\u001b[1;33m.\u001b[0m\u001b[0mshape\u001b[0m\u001b[1;33m[\u001b[0m\u001b[1;36m0\u001b[0m\u001b[1;33m]\u001b[0m \u001b[1;33m!=\u001b[0m \u001b[0my\u001b[0m\u001b[1;33m.\u001b[0m\u001b[0mshape\u001b[0m\u001b[1;33m[\u001b[0m\u001b[1;36m0\u001b[0m\u001b[1;33m]\u001b[0m\u001b[1;33m:\u001b[0m\u001b[1;33m\u001b[0m\u001b[1;33m\u001b[0m\u001b[0m\n\u001b[0;32m    230\u001b[0m             raise ValueError(\"x and y must have same first dimension, but \"\n\u001b[1;32m--> 231\u001b[1;33m                              \"have shapes {} and {}\".format(x.shape, y.shape))\n\u001b[0m\u001b[0;32m    232\u001b[0m         \u001b[1;32mif\u001b[0m \u001b[0mx\u001b[0m\u001b[1;33m.\u001b[0m\u001b[0mndim\u001b[0m \u001b[1;33m>\u001b[0m \u001b[1;36m2\u001b[0m \u001b[1;32mor\u001b[0m \u001b[0my\u001b[0m\u001b[1;33m.\u001b[0m\u001b[0mndim\u001b[0m \u001b[1;33m>\u001b[0m \u001b[1;36m2\u001b[0m\u001b[1;33m:\u001b[0m\u001b[1;33m\u001b[0m\u001b[1;33m\u001b[0m\u001b[0m\n\u001b[0;32m    233\u001b[0m             raise ValueError(\"x and y can be no greater than 2-D, but have \"\n",
      "\u001b[1;31mValueError\u001b[0m: x and y must have same first dimension, but have shapes (2,) and (1,)"
     ]
    },
    {
     "data": {
      "image/png": "[encoded data removed]",
      "text/plain": [
       "<Figure size 576x216 with 1 Axes>"
      ]
     },
     "metadata": {
      "needs_background": "light"
     },
     "output_type": "display_data"
    }
   ],
   "source": [
    "plt.figure(figsize=(8,3))\n",
    "plt.plot(range(8,10),silhouette_score[],\"bo-\")\n",
    "\n",
    "plt.title('K-means with  random_state 11')\n",
    "\n",
    "plt.show()"
   ]
  },
  {
   "cell_type": "markdown",
   "metadata": {},
   "source": [
    "# Fit and Predict"
   ]
  },
  {
   "cell_type": "code",
   "execution_count": 255,
   "metadata": {},
   "outputs": [],
   "source": [
    "from sklearn.cluster import KMeans"
   ]
  },
  {
   "cell_type": "code",
   "execution_count": 256,
   "metadata": {},
   "outputs": [],
   "source": [
    "y_pred = kmeans.fit_predict(data_2d)"
   ]
  },
  {
   "cell_type": "code",
   "execution_count": 257,
   "metadata": {},
   "outputs": [
    {
     "data": {
      "text/plain": [
       "array([2, 3, 3, 3, 2, 3, 2, 3, 1, 1, 3, 2, 1, 1, 2, 3, 3, 3, 3, 1, 3, 1,\n",
       "       3, 3, 2, 3, 1, 1, 1, 1, 1, 1, 3, 1, 1, 2, 0, 2, 3, 3, 3, 2, 3, 3,\n",
       "       2, 2, 2, 2, 2, 3, 3, 3, 2, 3, 1, 2, 2, 2, 0, 1, 2, 3, 0, 1, 2, 1,\n",
       "       1, 0, 0, 1, 0, 2, 2, 2, 2, 3, 3, 0, 3, 3, 2, 2, 2, 0, 2, 2, 2, 2,\n",
       "       2, 2, 2, 0, 1, 1, 1, 1, 1, 0, 1, 1, 1, 1, 1, 0, 0, 3, 2, 1, 1, 2,\n",
       "       0, 0, 0, 0, 0, 1, 1, 1, 2, 3, 0, 0, 2, 1, 0, 1, 1, 0, 0, 2, 1, 1,\n",
       "       2, 0, 3, 1, 3, 1, 1, 1, 3, 1, 1, 1, 1, 1, 3, 1, 3, 3, 1, 1, 1, 1,\n",
       "       1, 1, 1, 0, 0, 1, 1, 1, 1, 3, 1, 1, 0, 0, 0, 0, 1, 1, 0, 3, 3, 2,\n",
       "       2, 2, 2, 3, 1, 3, 3, 1, 3, 1, 1, 2, 2, 1, 3, 3, 1, 2, 2, 2, 2, 2,\n",
       "       2, 2, 3, 2, 0, 2, 0, 0, 2, 2, 2, 3, 3, 2, 2, 3, 3, 2, 2, 3, 2, 1,\n",
       "       2, 0, 2, 2, 2, 0, 2, 2, 0, 2, 2, 2, 2, 3, 3, 2, 2, 0, 0, 0, 0, 0,\n",
       "       0, 0, 0, 0, 0, 0, 0, 0, 0, 2, 2, 2, 2])"
      ]
     },
     "execution_count": 257,
     "metadata": {},
     "output_type": "execute_result"
    }
   ],
   "source": [
    "y_pred"
   ]
  },
  {
   "cell_type": "code",
   "execution_count": 258,
   "metadata": {},
   "outputs": [
    {
     "data": {
      "text/plain": [
       "True"
      ]
     },
     "execution_count": 258,
     "metadata": {},
     "output_type": "execute_result"
    }
   ],
   "source": [
    "y_pred is kmeans.labels_"
   ]
  },
  {
   "cell_type": "code",
   "execution_count": 259,
   "metadata": {},
   "outputs": [
    {
     "data": {
      "text/plain": [
       "array([[-3.01996768,  1.3705677 ],\n",
       "       [ 1.72033094,  1.93514217],\n",
       "       [-1.37492426, -1.37314613],\n",
       "       [ 2.51395506, -1.84037181]])"
      ]
     },
     "execution_count": 259,
     "metadata": {},
     "output_type": "execute_result"
    }
   ],
   "source": [
    "kmeans.cluster_centers_"
   ]
  },
  {
   "cell_type": "code",
   "execution_count": 260,
   "metadata": {},
   "outputs": [
    {
     "data": {
      "text/plain": [
       "array([2, 3, 3, 3, 2, 3, 2, 3, 1, 1, 3, 2, 1, 1, 2, 3, 3, 3, 3, 1, 3, 1,\n",
       "       3, 3, 2, 3, 1, 1, 1, 1, 1, 1, 3, 1, 1, 2, 0, 2, 3, 3, 3, 2, 3, 3,\n",
       "       2, 2, 2, 2, 2, 3, 3, 3, 2, 3, 1, 2, 2, 2, 0, 1, 2, 3, 0, 1, 2, 1,\n",
       "       1, 0, 0, 1, 0, 2, 2, 2, 2, 3, 3, 0, 3, 3, 2, 2, 2, 0, 2, 2, 2, 2,\n",
       "       2, 2, 2, 0, 1, 1, 1, 1, 1, 0, 1, 1, 1, 1, 1, 0, 0, 3, 2, 1, 1, 2,\n",
       "       0, 0, 0, 0, 0, 1, 1, 1, 2, 3, 0, 0, 2, 1, 0, 1, 1, 0, 0, 2, 1, 1,\n",
       "       2, 0, 3, 1, 3, 1, 1, 1, 3, 1, 1, 1, 1, 1, 3, 1, 3, 3, 1, 1, 1, 1,\n",
       "       1, 1, 1, 0, 0, 1, 1, 1, 1, 3, 1, 1, 0, 0, 0, 0, 1, 1, 0, 3, 3, 2,\n",
       "       2, 2, 2, 3, 1, 3, 3, 1, 3, 1, 1, 2, 2, 1, 3, 3, 1, 2, 2, 2, 2, 2,\n",
       "       2, 2, 3, 2, 0, 2, 0, 0, 2, 2, 2, 3, 3, 2, 2, 3, 3, 2, 2, 3, 2, 1,\n",
       "       2, 0, 2, 2, 2, 0, 2, 2, 0, 2, 2, 2, 2, 3, 3, 2, 2, 0, 0, 0, 0, 0,\n",
       "       0, 0, 0, 0, 0, 0, 0, 0, 0, 2, 2, 2, 2])"
      ]
     },
     "execution_count": 260,
     "metadata": {},
     "output_type": "execute_result"
    }
   ],
   "source": [
    "kmeans.labels_"
   ]
  },
  {
   "cell_type": "code",
   "execution_count": 262,
   "metadata": {},
   "outputs": [
    {
     "data": {
      "image/png": "[encoded data removed]",
      "text/plain": [
       "<Figure size 432x288 with 1 Axes>"
      ]
     },
     "metadata": {
      "needs_background": "light"
     },
     "output_type": "display_data"
    }
   ],
   "source": [
    "from sklearn.cluster import KMeans\n",
    "wcss = []\n",
    "for i in range(1, 11):\n",
    "    kmeans = KMeans(n_clusters = i, random_state = 42)\n",
    "    kmeans.fit(data_2d)\n",
    "    wcss.append(kmeans.inertia_)\n",
    "plt.plot(range(1, 11), wcss)\n",
    "plt.title('The Elbow Method')\n",
    "plt.xlabel('Number of clusters')\n",
    "plt.ylabel('WCSS')\n",
    "plt.show()"
   ]
  },
  {
   "cell_type": "markdown",
   "metadata": {},
   "source": [
    "# -------------------------"
   ]
  },
  {
   "cell_type": "code",
   "execution_count": 208,
   "metadata": {},
   "outputs": [],
   "source": [
    "from sklearn.preprocessing import normalize\n",
    "data_2d['mean'] = pd.Series(data.mean(axis=1), index=data_2d.index)\n",
    "mean_max =data_2d['mean'].max()\n",
    "mean_min = data_2d['mean'].min()"
   ]
  },
  {
   "cell_type": "code",
   "execution_count": 209,
   "metadata": {},
   "outputs": [
    {
     "data": {
      "text/html": [
       "<div>\n",
       "<style scoped>\n",
       "    .dataframe tbody tr th:only-of-type {\n",
       "        vertical-align: middle;\n",
       "    }\n",
       "\n",
       "    .dataframe tbody tr th {\n",
       "        vertical-align: top;\n",
       "    }\n",
       "\n",
       "    .dataframe thead th {\n",
       "        text-align: right;\n",
       "    }\n",
       "</style>\n",
       "<table border=\"1\" class=\"dataframe\">\n",
       "  <thead>\n",
       "    <tr style=\"text-align: right;\">\n",
       "      <th></th>\n",
       "      <th>PC1</th>\n",
       "      <th>PC2</th>\n",
       "      <th>mean</th>\n",
       "      <th>mean_scaled</th>\n",
       "    </tr>\n",
       "  </thead>\n",
       "  <tbody>\n",
       "    <tr>\n",
       "      <th>0</th>\n",
       "      <td>0.035940</td>\n",
       "      <td>0.045315</td>\n",
       "      <td>1436.465294</td>\n",
       "      <td>0.317112</td>\n",
       "    </tr>\n",
       "    <tr>\n",
       "      <th>4</th>\n",
       "      <td>0.981939</td>\n",
       "      <td>-0.790905</td>\n",
       "      <td>1233.559412</td>\n",
       "      <td>0.197160</td>\n",
       "    </tr>\n",
       "    <tr>\n",
       "      <th>5</th>\n",
       "      <td>2.256443</td>\n",
       "      <td>-0.676873</td>\n",
       "      <td>1269.508824</td>\n",
       "      <td>0.218412</td>\n",
       "    </tr>\n",
       "    <tr>\n",
       "      <th>6</th>\n",
       "      <td>3.624268</td>\n",
       "      <td>-1.535921</td>\n",
       "      <td>1350.625000</td>\n",
       "      <td>0.266366</td>\n",
       "    </tr>\n",
       "    <tr>\n",
       "      <th>8</th>\n",
       "      <td>0.179718</td>\n",
       "      <td>-0.185143</td>\n",
       "      <td>977.942059</td>\n",
       "      <td>0.046047</td>\n",
       "    </tr>\n",
       "  </tbody>\n",
       "</table>\n",
       "</div>"
      ],
      "text/plain": [
       "        PC1       PC2         mean  mean_scaled\n",
       "0  0.035940  0.045315  1436.465294     0.317112\n",
       "4  0.981939 -0.790905  1233.559412     0.197160\n",
       "5  2.256443 -0.676873  1269.508824     0.218412\n",
       "6  3.624268 -1.535921  1350.625000     0.266366\n",
       "8  0.179718 -0.185143   977.942059     0.046047"
      ]
     },
     "execution_count": 209,
     "metadata": {},
     "output_type": "execute_result"
    }
   ],
   "source": [
    "mean_scaled = (data_2d['mean']-mean_min) / mean_max\n",
    "data_2d['mean_scaled'] = pd.Series(mean_scaled,index=data_2d.index)\n",
    "data_2d.head()"
   ]
  },
  {
   "cell_type": "code",
   "execution_count": 210,
   "metadata": {},
   "outputs": [
    {
     "data": {
      "text/plain": [
       "<matplotlib.axes._subplots.AxesSubplot at 0x1fc874d37b8>"
      ]
     },
     "execution_count": 210,
     "metadata": {},
     "output_type": "execute_result"
    },
    {
     "data": {
      "image/png": "[encoded data removed]",
      "text/plain": [
       "<Figure size 432x288 with 1 Axes>"
      ]
     },
     "metadata": {
      "needs_background": "light"
     },
     "output_type": "display_data"
    }
   ],
   "source": [
    "data_2d.plot(kind='scatter', x='PC2', y='PC1')"
   ]
  },
  {
   "cell_type": "code",
   "execution_count": null,
   "metadata": {},
   "outputs": [],
   "source": []
  },
  {
   "cell_type": "code",
   "execution_count": null,
   "metadata": {},
   "outputs": [],
   "source": []
  }
 ],
 "metadata": {
  "kernelspec": {
   "display_name": "Python 3",
   "language": "python",
   "name": "python3"
  },
  "language_info": {
   "codemirror_mode": {
    "name": "ipython",
    "version": 3
   },
   "file_extension": ".py",
   "mimetype": "text/x-python",
   "name": "python",
   "nbconvert_exporter": "python",
   "pygments_lexer": "ipython3",
   "version": "3.7.1"
  }
 },
 "nbformat": 4,
 "nbformat_minor": 2
}
